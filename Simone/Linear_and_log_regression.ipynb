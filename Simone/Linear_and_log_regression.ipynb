{
  "cells": [
    {
      "cell_type": "markdown",
      "metadata": {
        "id": "gz_DPjHz8cVM"
      },
      "source": [
        "**Author:** [Giulio Cordova](http://kdd.isti.cnr.it/people/riccardo-guidotti)  \n",
        "**Python version:**  3.x"
      ]
    },
    {
      "cell_type": "code",
      "execution_count": 1,
      "metadata": {
        "id": "WXTF_TyS8cVX"
      },
      "outputs": [],
      "source": [
        "%matplotlib inline\n",
        "\n",
        "import numpy as np\n",
        "import pandas as pd\n",
        "import matplotlib.pyplot as plt\n",
        "\n",
        "from collections import defaultdict"
      ]
    },
    {
      "cell_type": "code",
      "execution_count": 2,
      "metadata": {
        "id": "MLC3w4A28cVn"
      },
      "outputs": [],
      "source": [
        "from sklearn.model_selection import cross_val_score \n",
        "\n",
        "from sklearn.metrics import r2_score, mean_squared_error, mean_absolute_error, PrecisionRecallDisplay, RocCurveDisplay, accuracy_score"
      ]
    },
    {
      "cell_type": "markdown",
      "source": [
        "#Load Data"
      ],
      "metadata": {
        "id": "gYYzbZst8fsy"
      }
    },
    {
      "cell_type": "code",
      "source": [
        "# we use the dataset without duplicated columns\n",
        "\n",
        "X_test_df = pd.read_csv('best_X_test_con_nomi.csv', header = 0)\n",
        "y_train_df = pd.read_csv('y_train_wo_outliers_num.csv', header = None)\n",
        "X_train_df = pd.read_csv('best_X_train_con_nomi.csv', header = 0)\n",
        "y_test_df = pd.read_fwf('y_test.txt', header = None)"
      ],
      "metadata": {
        "id": "zsOyU2Ru8g8n"
      },
      "execution_count": 3,
      "outputs": []
    },
    {
      "cell_type": "code",
      "source": [
        "X_test = X_test_df.values\n",
        "y_train = y_train_df.values\n",
        "X_train = X_train_df.values\n",
        "y_test = y_test_df.values"
      ],
      "metadata": {
        "id": "YdXoopqINtt1"
      },
      "execution_count": 4,
      "outputs": []
    },
    {
      "cell_type": "markdown",
      "source": [
        "Remove class 5"
      ],
      "metadata": {
        "id": "cxegCSGYei2o"
      }
    },
    {
      "cell_type": "code",
      "source": [
        "X_train_n=np.zeros(shape=[0,23])\n",
        "y_train_n=np.zeros(shape=[0,1])\n",
        "for j in range(0,7274):\n",
        "  if y_train[j]!=6:\n",
        "\n",
        "    X_train_n = np.append(X_train_n, [X_train[j]], axis=0)\n",
        "    y_train_n = np.append(y_train_n, [y_train[j]], axis=0)"
      ],
      "metadata": {
        "id": "hzpzG8hE1Bx8"
      },
      "execution_count": 5,
      "outputs": []
    },
    {
      "cell_type": "code",
      "source": [
        "X_test_n=np.zeros(shape=[0,23])\n",
        "y_test_n=np.zeros(shape=[0,1])\n",
        "for j in range(0,len(y_test)):\n",
        "  if y_test[j]!=6:\n",
        "\n",
        "    X_test_n = np.append(X_test_n, [X_test[j]], axis=0)\n",
        "    y_test_n = np.append(y_test_n, [y_test[j]], axis=0)"
      ],
      "metadata": {
        "id": "RWfCgaLP1O__"
      },
      "execution_count": 6,
      "outputs": []
    },
    {
      "cell_type": "code",
      "source": [
        "X_test=X_test_n\n",
        "y_test=y_test_n\n",
        "X_train=X_train_n\n",
        "y_train=y_train_n"
      ],
      "metadata": {
        "id": "lLfhIj5g1QC2"
      },
      "execution_count": 7,
      "outputs": []
    },
    {
      "cell_type": "markdown",
      "metadata": {
        "id": "v-1BaUqe8cVr"
      },
      "source": [
        "# Linear Regression"
      ]
    },
    {
      "cell_type": "code",
      "execution_count": 8,
      "metadata": {
        "id": "AGZRJj2Z8cVv"
      },
      "outputs": [],
      "source": [
        "from sklearn.linear_model import LinearRegression, Ridge, Lasso"
      ]
    },
    {
      "cell_type": "code",
      "execution_count": 54,
      "metadata": {
        "colab": {
          "base_uri": "https://localhost:8080/"
        },
        "id": "8NVsszzE8cVz",
        "outputId": "650f8f5c-ca20-43e0-bc27-f8b7ff5caf28"
      },
      "outputs": [
        {
          "output_type": "execute_result",
          "data": {
            "text/plain": [
              "LinearRegression()"
            ]
          },
          "metadata": {},
          "execution_count": 54
        }
      ],
      "source": [
        "reg = LinearRegression()\n",
        "reg.fit(X_train, y_train)"
      ]
    },
    {
      "cell_type": "code",
      "execution_count": 55,
      "metadata": {
        "colab": {
          "base_uri": "https://localhost:8080/"
        },
        "id": "iTbeKPHN8cV2",
        "outputId": "1ce46cf7-9a8f-45f1-954f-a6aa5afc0777"
      },
      "outputs": [
        {
          "output_type": "stream",
          "name": "stdout",
          "text": [
            "Coefficients: \n",
            " [[ 0.05699237  1.77596531  0.514424    3.38658859 -1.62323246 -3.82388372\n",
            "  -3.33519995  0.09286243  0.74899973 -0.51087687  0.77360798 -0.65780468\n",
            "  -0.56740453  0.31328356 -0.32860229 -0.63428073  1.69430237 -2.95629069\n",
            "   0.03045351 -0.44087834 -8.9369512  10.69644585 -3.40815776]]\n",
            "Intercept: \n",
            " [4.42707507]\n"
          ]
        }
      ],
      "source": [
        "print('Coefficients: \\n', reg.coef_)\n",
        "print('Intercept: \\n', reg.intercept_)"
      ]
    },
    {
      "cell_type": "code",
      "execution_count": 56,
      "metadata": {
        "id": "2JY_eyrg8cV5"
      },
      "outputs": [],
      "source": [
        "y_pred = reg.predict(X_test)"
      ]
    },
    {
      "cell_type": "code",
      "execution_count": 57,
      "metadata": {
        "colab": {
          "base_uri": "https://localhost:8080/"
        },
        "id": "aqhIqVr98cV6",
        "outputId": "55051117-a783-41c9-d3b9-fe2f7587e857"
      },
      "outputs": [
        {
          "output_type": "stream",
          "name": "stdout",
          "text": [
            "R2: 0.530\n",
            "MSE: 0.988\n",
            "MAE: 0.745\n"
          ]
        }
      ],
      "source": [
        "print('R2: %.3f' % r2_score(y_test, y_pred))\n",
        "print('MSE: %.3f' % mean_squared_error(y_test, y_pred))\n",
        "print('MAE: %.3f' % mean_absolute_error(y_test, y_pred))"
      ]
    },
    {
      "cell_type": "markdown",
      "source": [
        "Try to divide the dataset according to class and predict class. We expect all coefficients to be zero and an intercept at the height of the class."
      ],
      "metadata": {
        "id": "nEvP1zNGemYp"
      }
    },
    {
      "cell_type": "code",
      "source": [
        "X_train_class=[]\n",
        "X_test_class=[]\n",
        "y_train_class=[]\n",
        "y_test_class=[]\n",
        "\n",
        "for i in range(1,6):\n",
        "  X_dummy=[]\n",
        "  y_dummy=[]\n",
        "  for j in range(0,len(y_train)):\n",
        "    if y_train[j]==i:\n",
        "      X_dummy.append(X_train[j])\n",
        "      y_dummy.append(y_train[j])\n",
        "  X_train_class.append(X_dummy)\n",
        "  y_train_class.append(y_dummy)\n",
        "\n",
        "for i in range(1,6):\n",
        "  X_dummy=[]\n",
        "  y_dummy=[]\n",
        "  for j in range(0,len(y_test)):\n",
        "    if y_train[j]==i:\n",
        "      X_dummy.append(X_test[j])\n",
        "      y_dummy.append(y_test[j])\n",
        "  X_test_class.append(X_dummy)\n",
        "  y_test_class.append(y_dummy)"
      ],
      "metadata": {
        "id": "VFZz15Sjyva0"
      },
      "execution_count": 59,
      "outputs": []
    },
    {
      "cell_type": "code",
      "source": [
        "for i in range(0,5):\n",
        "  reg = LinearRegression()\n",
        "  reg.fit(X_train_class[i], y_train_class[i])\n",
        "  print('Multi regression for class ', i)\n",
        "  print('Coefficients: \\n', reg.coef_)\n",
        "  print('Intercept: \\n', reg.intercept_)\n",
        "  y_pred = reg.predict(X_test_class[i])\n",
        "  print('R2: %.3f' % r2_score(y_test_class[i], y_pred))\n",
        "  print('MSE: %.3f' % mean_squared_error(y_test_class[i], y_pred))\n",
        "  print('MAE: %.3f' % mean_absolute_error(y_test_class[i], y_pred))"
      ],
      "metadata": {
        "id": "AeHyjBx50YHe",
        "outputId": "0b9b8d16-808e-4a10-8168-d888eaba9cc1",
        "colab": {
          "base_uri": "https://localhost:8080/"
        }
      },
      "execution_count": 60,
      "outputs": [
        {
          "output_type": "stream",
          "name": "stdout",
          "text": [
            "Multi regression for class  0\n",
            "Coefficients: \n",
            " [[0. 0. 0. 0. 0. 0. 0. 0. 0. 0. 0. 0. 0. 0. 0. 0. 0. 0. 0. 0. 0. 0. 0.]]\n",
            "Intercept: \n",
            " [1.]\n",
            "R2: -2.282\n",
            "MSE: 7.024\n",
            "MAE: 2.210\n",
            "Multi regression for class  1\n",
            "Coefficients: \n",
            " [[0. 0. 0. 0. 0. 0. 0. 0. 0. 0. 0. 0. 0. 0. 0. 0. 0. 0. 0. 0. 0. 0. 0.]]\n",
            "Intercept: \n",
            " [2.]\n",
            "R2: -0.299\n",
            "MSE: 2.844\n",
            "MAE: 1.393\n",
            "Multi regression for class  2\n",
            "Coefficients: \n",
            " [[0. 0. 0. 0. 0. 0. 0. 0. 0. 0. 0. 0. 0. 0. 0. 0. 0. 0. 0. 0. 0. 0. 0.]]\n",
            "Intercept: \n",
            " [3.]\n",
            "R2: -0.001\n",
            "MSE: 2.050\n",
            "MAE: 1.258\n",
            "Multi regression for class  3\n",
            "Coefficients: \n",
            " [[0. 0. 0. 0. 0. 0. 0. 0. 0. 0. 0. 0. 0. 0. 0. 0. 0. 0. 0. 0. 0. 0. 0.]]\n",
            "Intercept: \n",
            " [4.]\n",
            "R2: -0.343\n",
            "MSE: 2.658\n",
            "MAE: 1.329\n",
            "Multi regression for class  4\n",
            "Coefficients: \n",
            " [[0. 0. 0. 0. 0. 0. 0. 0. 0. 0. 0. 0. 0. 0. 0. 0. 0. 0. 0. 0. 0. 0. 0.]]\n",
            "Intercept: \n",
            " [5.]\n",
            "R2: -2.108\n",
            "MSE: 6.352\n",
            "MAE: 2.076\n"
          ]
        }
      ]
    },
    {
      "cell_type": "markdown",
      "source": [
        "Perform a linear regression over the 23 variables. Keep one as target and let the others be the support."
      ],
      "metadata": {
        "id": "vvJhgy7ze1es"
      }
    },
    {
      "cell_type": "code",
      "source": [
        "col_names=list(X_train_df.columns)"
      ],
      "metadata": {
        "id": "4AiJpF_CEeJR"
      },
      "execution_count": 9,
      "outputs": []
    },
    {
      "cell_type": "code",
      "source": [
        "coefficients=np.zeros(shape=(0,22))\n",
        "\n",
        "coeff_r2=[]\n",
        "\n",
        "for element in col_names:\n",
        "  dummy_x_tr=X_train_df.loc[:, X_train_df.columns != element]\n",
        "  dummy_y_tr=X_train_df.loc[:, X_train_df.columns == element]\n",
        "  dummy_x_te=X_test_df.loc[:, X_test_df.columns != element]\n",
        "  dummy_y_te=X_test_df.loc[:, X_test_df.columns == element]\n",
        "  X_test_dummy = dummy_x_te.values\n",
        "  y_train_dummy = dummy_y_tr.values\n",
        "  X_train_dummy = dummy_x_tr.values\n",
        "  y_test_dummy = dummy_y_te.values\n",
        "  reg = LinearRegression()\n",
        "  reg.fit(X_train_dummy, y_train_dummy)\n",
        "  print('Multi regression for class ', element)\n",
        "  print('Coefficients: \\n', reg.coef_)\n",
        "  print('Intercept: \\n', reg.intercept_)\n",
        "\n",
        "  dum_coef=reg.coef_\n",
        "  #np.insert(dum_coef,0,1,axis=1)\n",
        "  \n",
        "  coefficients = np.append(coefficients, dum_coef, axis=0)\n",
        "  #print(dum_coef)\n",
        "  #dum_coef.insert(col_names.index(element),1)\n",
        "  #print(dum_coef)\n",
        "  #coefficients.append(dum_coef)\n",
        "\n",
        "  y_pred = reg.predict(X_test_dummy)\n",
        "  print('R2: %.3f' % r2_score(y_test_dummy, y_pred))\n",
        "  print('MSE: %.3f' % mean_squared_error(y_test_dummy, y_pred))\n",
        "  print('MAE: %.3f' % mean_absolute_error(y_test_dummy, y_pred))\n",
        "\n",
        "  coeff_r2.append(r2_score(y_test_dummy, y_pred))"
      ],
      "metadata": {
        "colab": {
          "base_uri": "https://localhost:8080/"
        },
        "id": "4uy6e-HuJqXv",
        "outputId": "511be328-f48f-40b3-c689-a1afe007122a"
      },
      "execution_count": 72,
      "outputs": [
        {
          "output_type": "stream",
          "name": "stdout",
          "text": [
            "Multi regression for class  tBodyAcc-correlation()-X,Y\n",
            "Coefficients: \n",
            " [[-0.41453973 -0.74880309  0.55488976 -0.0119268  -0.30547722 -0.6540953\n",
            "  -0.46422595 -0.01905732  0.08157564  0.12849118 -0.22825771  0.05095703\n",
            "   0.0110413   0.02766858 -0.14109356 -0.0939996   0.2271097  -0.08161057\n",
            "   0.04743496 -0.39974533 -0.27815727 -1.3622562 ]]\n",
            "Intercept: \n",
            " [-0.41219303]\n",
            "R2: -0.101\n",
            "MSE: 0.130\n",
            "MAE: 0.271\n",
            "Multi regression for class  tGravityAcc-mean()-X\n",
            "Coefficients: \n",
            " [[-8.27815229e-04  6.08580068e-02  2.08264719e-01  1.01655957e+00\n",
            "  -5.53130060e-02 -2.06961649e-01  3.52666964e-04 -1.79605509e-02\n",
            "  -2.39035275e-03 -4.57916032e-03  3.70889085e-03 -5.54155643e-03\n",
            "   2.66821563e-03 -8.17819926e-04  2.07988851e-04 -6.36429911e-03\n",
            "   6.86712326e-03 -3.93452250e-04 -2.04719506e-03  1.62029104e-02\n",
            "  -7.65883096e-03  5.40046960e-03]]\n",
            "Intercept: \n",
            " [-0.04210419]\n",
            "R2: 0.988\n",
            "MSE: 0.003\n",
            "MAE: 0.029\n",
            "Multi regression for class  tGravityAcc-max()-Y\n",
            "Coefficients: \n",
            " [[-0.0059011   0.24016847  0.1877583  -0.2877421   0.24299908 -0.14921369\n",
            "  -0.12378704  0.00137363 -0.01535995 -0.00634494  0.0172887  -0.01288288\n",
            "   0.02070802  0.00225529  0.00825973 -0.02280596 -0.00890106  0.00732418\n",
            "  -0.00563223  0.06535172 -0.01467339 -0.98916084]]\n",
            "Intercept: \n",
            " [-0.03735843]\n",
            "R2: 0.974\n",
            "MSE: 0.004\n",
            "MAE: 0.037\n",
            "Multi regression for class  tGravityAcc-max()-Z\n",
            "Coefficients: \n",
            " [[ 5.04283132e-03  9.47798864e-01  2.16521660e-01 -9.60913676e-01\n",
            "  -2.63853841e-01  9.83622738e-01 -7.53633298e-03  1.07679413e-02\n",
            "  -6.59888415e-03  5.21095747e-02 -2.39556505e-02 -4.59247483e-03\n",
            "   3.60715183e-03 -4.71014221e-03  7.49296681e-03 -2.30286194e-02\n",
            "  -1.05728220e-02  1.77052056e-03  6.85992507e-04  7.21877360e-02\n",
            "  -2.67765590e-02 -9.67635873e-02]]\n",
            "Intercept: \n",
            " [0.03681574]\n",
            "R2: -0.380\n",
            "MSE: 0.069\n",
            "MAE: 0.128\n",
            "Multi regression for class  tGravityAcc-min()-X\n",
            "Coefficients: \n",
            " [[-2.29441586e-05  9.79295448e-01 -7.02402478e-02 -2.03406487e-01\n",
            "   5.22452055e-02  2.00796304e-01 -5.20487352e-03  1.91083929e-02\n",
            "   2.38957745e-03  5.96309070e-03 -4.23039973e-03  5.57859436e-03\n",
            "  -3.02696712e-03  8.65262378e-04 -1.65424867e-05  7.31268566e-03\n",
            "  -6.50397347e-03  5.77042299e-04  1.90683884e-03 -1.55012882e-02\n",
            "   5.81256783e-03 -2.20911095e-02]]\n",
            "Intercept: \n",
            " [0.04265696]\n",
            "R2: 0.988\n",
            "MSE: 0.003\n",
            "MAE: 0.029\n",
            "Multi regression for class  tGravityAcc-min()-Y\n",
            "Coefficients: \n",
            " [[-0.00311341 -0.2823045   0.31426564 -0.2959058   0.27679362  0.3171446\n",
            "  -0.08632509 -0.01820615  0.0177095  -0.02147431  0.02640161  0.01115794\n",
            "  -0.01161448  0.00493332  0.00368465  0.01189378  0.00933951  0.00248195\n",
            "  -0.00223103 -0.07609511  0.04061128 -0.9164301 ]]\n",
            "Intercept: \n",
            " [0.0266051]\n",
            "R2: 0.950\n",
            "MSE: 0.008\n",
            "MAE: 0.050\n",
            "Multi regression for class  tGravityAcc-min()-Z\n",
            "Coefficients: \n",
            " [[-6.01195949e-03 -9.52571624e-01 -1.74027612e-01  9.94800154e-01\n",
            "   9.59362135e-01  2.86005603e-01  5.84133330e-03 -1.07017943e-02\n",
            "   5.59075646e-03 -4.53275345e-02  1.29926886e-02  6.40507201e-03\n",
            "  -5.83351878e-03  4.30966981e-03 -9.30572474e-03  2.88466771e-02\n",
            "   1.14173110e-02 -1.57486830e-03  3.95542702e-04 -7.71292115e-02\n",
            "   2.04357481e-02  1.66665686e-01]]\n",
            "Intercept: \n",
            " [-0.03399689]\n",
            "R2: 0.234\n",
            "MSE: 0.069\n",
            "MAE: 0.129\n",
            "Multi regression for class  tGravityAcc-energy()-Y\n",
            "Coefficients: \n",
            " [[-6.22213427e-02  2.36705030e-02 -2.10532734e+00 -1.11148168e-01\n",
            "  -3.62636892e-01 -1.13524404e+00  8.51818234e-02 -1.12767337e-02\n",
            "  -7.12967435e-04  8.50411563e-02 -1.24852633e-02  4.87806587e-02\n",
            "  -4.91132253e-03  4.62255941e-02  5.12404171e-02  7.93497945e-03\n",
            "   2.31475055e-02  3.94426618e-02 -1.36950099e-02  7.79967337e-02\n",
            "  -1.26041007e-01 -4.82300585e+00]]\n",
            "Intercept: \n",
            " [-0.19940355]\n",
            "R2: 0.701\n",
            "MSE: 0.073\n",
            "MAE: 0.122\n",
            "Multi regression for class  tGravityAcc-arCoeff()-X,3\n",
            "Coefficients: \n",
            " [[-0.00373701 -1.76366071  0.03417958  0.23234193  1.94777436 -0.35028611\n",
            "  -0.22832014 -0.01649818  0.14442759 -0.07697583 -0.05542336 -0.03864985\n",
            "   0.06536198  0.00988934  0.08565258 -0.28815276  0.1448753   0.03129287\n",
            "   0.02358925 -0.32199308  0.33579748 -0.37130485]]\n",
            "Intercept: \n",
            " [-0.67312035]\n",
            "R2: 0.472\n",
            "MSE: 0.023\n",
            "MAE: 0.117\n",
            "Multi regression for class  tGravityAcc-arCoeff()-Y,3\n",
            "Coefficients: \n",
            " [[ 0.03344488 -0.49075409 -0.7990859  -0.29769529  0.50926302  0.71238965\n",
            "   0.2493818  -0.00218087  0.30196507 -0.10758784 -0.24992934 -0.00651418\n",
            "  -0.07547931  0.02667081  0.30067777  0.02690396 -0.025695    0.07769584\n",
            "   0.06269764  0.56999261 -0.40714398 -0.42940159]]\n",
            "Intercept: \n",
            " [0.2204979]\n",
            "R2: 0.471\n",
            "MSE: 0.044\n",
            "MAE: 0.162\n",
            "Multi regression for class  tGravityAcc-arCoeff()-Z,2\n",
            "Coefficients: \n",
            " [[ 0.00514083 -0.09174418 -0.03221233  0.22940862  0.12401756 -0.08429879\n",
            "  -0.19730905  0.02538511 -0.0157055  -0.01049914  0.98637092 -0.0163572\n",
            "  -0.00355468 -0.00206134 -0.05775516  0.02400451 -0.10321211 -0.02230196\n",
            "  -0.04135477 -0.11838451  0.07915288 -0.11266732]]\n",
            "Intercept: \n",
            " [-0.20645844]\n",
            "R2: 0.795\n",
            "MSE: 0.014\n",
            "MAE: 0.060\n",
            "Multi regression for class  tGravityAcc-arCoeff()-Z,4\n",
            "Coefficients: \n",
            " [[-0.00814397  0.06626549  0.07827217 -0.09404828 -0.0784592   0.09242367\n",
            "   0.0504353  -0.00332352 -0.01008419 -0.02174997  0.87961161  0.01559041\n",
            "   0.01409796  0.00421897  0.02051096 -0.03140961  0.0903038   0.01796111\n",
            "   0.02762584  0.11974412 -0.10480575  0.18154874]]\n",
            "Intercept: \n",
            " [0.17602404]\n",
            "R2: 0.831\n",
            "MSE: 0.009\n",
            "MAE: 0.046\n",
            "Multi regression for class  tBodyGyro-max()-X\n",
            "Coefficients: \n",
            " [[ 0.01149118 -0.62578464 -0.3686445  -0.11395659  0.65393867  0.24688044\n",
            "   0.15714819  0.08207258 -0.04444732 -0.00358303 -0.09219546  0.09853882\n",
            "   0.04043003  0.0355855   0.02433857  0.04335964  0.48176081 -0.04559441\n",
            "  -0.01381282  0.9592095  -0.91931207  0.03564727]]\n",
            "Intercept: \n",
            " [-0.40691966]\n",
            "R2: 0.667\n",
            "MSE: 0.022\n",
            "MAE: 0.097\n",
            "Multi regression for class  tBodyGyro-min()-X\n",
            "Coefficients: \n",
            " [[ 0.00191753  0.23204744  0.45634792  0.06893183 -0.27326415 -0.19790887\n",
            "  -0.11022464 -0.00636373  0.05788762 -0.03197288 -0.01542993  0.06862286\n",
            "   0.03113629 -0.00234018 -0.00298053  0.08350433 -0.43883822  0.06915402\n",
            "  -0.03149374 -0.70087456  0.45444696  0.26358318]]\n",
            "Intercept: \n",
            " [0.31286978]\n",
            "R2: 0.715\n",
            "MSE: 0.016\n",
            "MAE: 0.082\n",
            "Multi regression for class  tBodyGyro-correlation()-Y,Z\n",
            "Coefficients: \n",
            " [[ 0.04031    -0.59664546  0.41693038 -0.75507865  0.65527797  0.70519208\n",
            "   0.68311667  0.50245647  0.0734735   0.09477483 -0.07506108  0.17227487\n",
            "   0.2298998  -0.01963141  0.13301178 -0.03002902  0.19997181 -0.09175654\n",
            "  -0.05446233  1.36915491 -1.65719416  1.8000071 ]]\n",
            "Intercept: \n",
            " [-0.13809973]\n",
            "R2: -0.269\n",
            "MSE: 0.190\n",
            "MAE: 0.328\n",
            "Multi regression for class  tBodyAccMag-arCoeff()1\n",
            "Coefficients: \n",
            " [[-0.04161048  0.03071626  0.30909784  0.24315408 -0.00253599  0.10661897\n",
            "  -0.29858684  0.11274523  0.12881703  0.2162856  -0.42572223  0.16953947\n",
            "   0.03182953 -0.00506135  0.02692525 -0.10260066  0.40822519  0.05994888\n",
            "  -0.00172202 -0.99782057  0.51552223  0.57211908]]\n",
            "Intercept: \n",
            " [0.31965015]\n",
            "R2: 0.559\n",
            "MSE: 0.034\n",
            "MAE: 0.145\n",
            "Multi regression for class  fBodyAcc-bandsEnergy()-1,8\n",
            "Coefficients: \n",
            " [[-0.0100382  -0.34034    -0.30903845 -0.27060128  0.4059368   0.12462112\n",
            "   0.33515866  0.00632216 -0.15692416  0.00700772  0.06407117 -0.09401163\n",
            "   0.02053312  0.05134705 -0.00220113 -0.03715218  0.30597582 -0.00735258\n",
            "   0.01775142  0.09727755  0.63102718 -0.23161878]]\n",
            "Intercept: \n",
            " [-0.0935488]\n",
            "R2: 0.786\n",
            "MSE: 0.011\n",
            "MAE: 0.068\n",
            "Multi regression for class  fBodyAccJerk-bandsEnergy()-1,24\n",
            "Coefficients: \n",
            " [[ 0.01142646  0.17301499 -0.05682667 -0.0585328  -0.17010095  0.04610439\n",
            "   0.06249783  0.00868901  0.03717131 -0.00315323 -0.12979168  0.12734196\n",
            "   0.10748484 -0.12713276  0.00690588  0.06964348  0.14415629  0.01828898\n",
            "   0.03235566 -0.0915006   0.60746171  0.01569204]]\n",
            "Intercept: \n",
            " [-0.07263598]\n",
            "R2: 0.824\n",
            "MSE: 0.008\n",
            "MAE: 0.054\n",
            "Multi regression for class  fBodyGyro-maxInds-X\n",
            "Coefficients: \n",
            " [[-0.03064283 -0.07397879  0.34896046  0.07315023  0.11262685  0.09143617\n",
            "  -0.06433565  0.110494    0.05991909  0.07115592 -0.20929825  0.18901875\n",
            "  -0.07591607  0.14951226 -0.02364795  0.07632522 -0.0258519   0.13648842\n",
            "   0.09860031  0.21229587 -0.23097571  0.62517236]]\n",
            "Intercept: \n",
            " [-0.82057588]\n",
            "R2: 0.003\n",
            "MSE: 0.032\n",
            "MAE: 0.131\n",
            "Multi regression for class  fBodyGyro-maxInds-Z\n",
            "Coefficients: \n",
            " [[ 0.02143333 -0.46321545 -0.32292829  0.03410694  0.44787508 -0.09890962\n",
            "   0.01944507 -0.04616825  0.05435538  0.06909921 -0.46704287  0.3498613\n",
            "  -0.02767661 -0.08193928 -0.01689123 -0.00263836  0.07510945  0.29057963\n",
            "   0.11865523  0.23672675 -0.34629986 -0.5173769 ]]\n",
            "Intercept: \n",
            " [-0.39902119]\n",
            "R2: 0.189\n",
            "MSE: 0.038\n",
            "MAE: 0.137\n",
            "Multi regression for class  fBodyAccMag-std()\n",
            "Coefficients: \n",
            " [[-0.01604802  0.32573464  0.33291218  0.31888483 -0.32348772 -0.29973477\n",
            "  -0.33688529  0.02336171 -0.06592074  0.05581336 -0.11878815  0.13473541\n",
            "   0.17076201 -0.16201505  0.03772809 -0.13582982  0.03656968 -0.07301061\n",
            "   0.0226985   0.02103267  0.92450979  0.11031592]]\n",
            "Intercept: \n",
            " [0.29533143]\n",
            "R2: 0.916\n",
            "MSE: 0.010\n",
            "MAE: 0.066\n",
            "Multi regression for class  fBodyAccMag-energy()\n",
            "Coefficients: \n",
            " [[-0.00689472 -0.09506523 -0.04615211 -0.07303205  0.07489388  0.09876778\n",
            "   0.05511147 -0.02330925  0.04244644 -0.02461531  0.04903806 -0.07281167\n",
            "  -0.10104831  0.06486144 -0.02819512  0.04332897  0.14646871  0.29927417\n",
            "  -0.01524791 -0.01899712  0.57082084  0.00748804]]\n",
            "Intercept: \n",
            " [-0.18234118]\n",
            "R2: 0.942\n",
            "MSE: 0.003\n",
            "MAE: 0.038\n",
            "Multi regression for class  angle(Y,gravityMean)\n",
            "Coefficients: \n",
            " [[-0.00465617  0.00924346 -0.42901402 -0.0363927  -0.03924998 -0.30733474\n",
            "   0.06197853 -0.1229923  -0.00647199 -0.00357985 -0.00962516  0.01739213\n",
            "   0.0005403   0.00518758  0.00422297  0.00663073 -0.00741334  0.00106604\n",
            "   0.00569098 -0.00391369  0.00939226  0.00103255]]\n",
            "Intercept: \n",
            " [-0.01473659]\n",
            "R2: 0.985\n",
            "MSE: 0.002\n",
            "MAE: 0.018\n"
          ]
        }
      ]
    },
    {
      "cell_type": "markdown",
      "source": [
        "adding the diagonal 0 to the list of coefficients (b)"
      ],
      "metadata": {
        "id": "klrbBXete_za"
      }
    },
    {
      "cell_type": "code",
      "source": [
        "b = np.zeros((coefficients.shape[0], coefficients.shape[1]+1), dtype=coefficients.dtype)\n",
        "\n",
        "i = np.arange(b.shape[0])\n",
        "\n",
        "j = np.arange(b.shape[1])\n",
        "\n",
        "b[np.not_equal.outer(i, j)] = coefficients.ravel()"
      ],
      "metadata": {
        "id": "UyX6waRULc-4"
      },
      "execution_count": 84,
      "outputs": []
    },
    {
      "cell_type": "code",
      "source": [
        "import seaborn as sns\n",
        "from sklearn.preprocessing import normalize"
      ],
      "metadata": {
        "id": "2xNPuatCRE1M"
      },
      "execution_count": 86,
      "outputs": []
    },
    {
      "cell_type": "code",
      "source": [
        "matrix=normalize(b, axis=1, norm='l2')"
      ],
      "metadata": {
        "id": "GkxPDzqYRhTH"
      },
      "execution_count": 89,
      "outputs": []
    },
    {
      "cell_type": "markdown",
      "source": [
        "Heatmap of coefficients for the linear regression task. Everything is normalized with the l2 norm. This plot indicates how the variables are multicorreleted with each other "
      ],
      "metadata": {
        "id": "0SVKmH4IfGRe"
      }
    },
    {
      "cell_type": "code",
      "source": [
        "ax = sns.heatmap(matrix,cmap='Blues',vmin=0, vmax=1)"
      ],
      "metadata": {
        "colab": {
          "base_uri": "https://localhost:8080/",
          "height": 272
        },
        "id": "4cr76oWBPqKr",
        "outputId": "06f2ae04-bf44-4ed4-8a07-9fedc1445e87"
      },
      "execution_count": 92,
      "outputs": [
        {
          "output_type": "display_data",
          "data": {
            "text/plain": [
              "<Figure size 432x288 with 2 Axes>"
            ],
            "image/png": "[encoded data removed]"
          },
          "metadata": {
            "needs_background": "light"
          }
        }
      ]
    },
    {
      "cell_type": "markdown",
      "source": [
        "Now I want to see for which variable we have the best regression. I look at the values of r2 and indentify the best with a bar chart."
      ],
      "metadata": {
        "id": "Vn-doPous4BC"
      }
    },
    {
      "cell_type": "code",
      "source": [
        "fig, ax = plt.subplots(figsize =(16, 9))\n",
        " \n",
        "# Horizontal Bar Plot\n",
        "ax.barh(col_names, coeff_r2)\n",
        " \n",
        "# Remove axes splines\n",
        "for s in ['top', 'bottom', 'left', 'right']:\n",
        "    ax.spines[s].set_visible(False)\n",
        " \n",
        "# Remove x, y Ticks\n",
        "ax.xaxis.set_ticks_position('none')\n",
        "ax.yaxis.set_ticks_position('none')\n",
        " \n",
        "# Add padding between axes and labels\n",
        "ax.xaxis.set_tick_params(pad = 5)\n",
        "ax.yaxis.set_tick_params(pad = 10)\n",
        " \n",
        "# Add x, y gridlines\n",
        "ax.grid(b = True, color ='grey',\n",
        "        linestyle ='-.', linewidth = 0.5,\n",
        "        alpha = 0.2)\n",
        " \n",
        "# Show top values\n",
        "ax.invert_yaxis()\n",
        " \n",
        "# Add annotation to bars\n",
        "for i in ax.patches:\n",
        "    plt.text(i.get_width()+0.02, i.get_y()+0.5,\n",
        "             str(round((i.get_width()), 2)),\n",
        "             fontsize = 10, fontweight ='bold',\n",
        "             color ='grey')\n",
        " \n",
        "# Add Plot Title\n",
        "ax.set_title('R2 of linear regression for every attribute',\n",
        "             loc ='left', )\n",
        " \n",
        "# Show Plot\n",
        "plt.show()"
      ],
      "metadata": {
        "colab": {
          "base_uri": "https://localhost:8080/",
          "height": 447
        },
        "id": "w4hdqwfkUGo0",
        "outputId": "b1832f9d-640d-438c-901d-2c8735a38837"
      },
      "execution_count": 98,
      "outputs": [
        {
          "output_type": "display_data",
          "data": {
            "text/plain": [
              "<Figure size 1152x648 with 1 Axes>"
            ],
            "image/png": "[encoded data removed]"
          },
          "metadata": {
            "needs_background": "light"
          }
        }
      ]
    },
    {
      "cell_type": "markdown",
      "metadata": {
        "id": "LWo8dJrP8cV8"
      },
      "source": [
        "## Linear Regression in 2 dimensions"
      ]
    },
    {
      "cell_type": "markdown",
      "source": [
        "useless shit"
      ],
      "metadata": {
        "id": "i_0O10NZfiZX"
      }
    },
    {
      "cell_type": "code",
      "execution_count": null,
      "metadata": {
        "colab": {
          "base_uri": "https://localhost:8080/"
        },
        "id": "_Ab4K9ji8cV9",
        "outputId": "cf45c988-2dbe-45bf-eca8-9996a79a2878"
      },
      "outputs": [
        {
          "output_type": "stream",
          "name": "stdout",
          "text": [
            "R2: -2.867\n",
            "MSE: 11.709\n",
            "MAE: 2.918\n"
          ]
        }
      ],
      "source": [
        "reg = LinearRegression()\n",
        "reg.fit(X_train.T[0].reshape(-1, 1), X_train.T[1].reshape(-1, 1))\n",
        "y_pred = reg.predict(X_test.T[0].reshape(-1, 1)).reshape(1,-1)[0]\n",
        "\n",
        "print('R2: %.3f' % r2_score(y_test, y_pred))\n",
        "print('MSE: %.3f' % mean_squared_error(y_test, y_pred))\n",
        "print('MAE: %.3f' % mean_absolute_error(y_test, y_pred))"
      ]
    },
    {
      "cell_type": "code",
      "execution_count": null,
      "metadata": {
        "colab": {
          "base_uri": "https://localhost:8080/",
          "height": 265
        },
        "id": "h8zI0dB18cV_",
        "outputId": "24597645-3b2e-4260-c27f-c10231e73fa4"
      },
      "outputs": [
        {
          "output_type": "display_data",
          "data": {
            "text/plain": [
              "<Figure size 432x288 with 1 Axes>"
            ],
            "image/png": "[encoded data removed]"
          },
          "metadata": {
            "needs_background": "light"
          }
        }
      ],
      "source": [
        "plt.scatter(X_train.T[0], X_train.T[1],  color='black')\n",
        "plt.plot(X_test.T[0], y_pred, color='blue', linewidth=3, label='test')\n",
        "plt.show()"
      ]
    },
    {
      "cell_type": "markdown",
      "metadata": {
        "id": "_PSLtrkc8cWN"
      },
      "source": [
        "# Ridge"
      ]
    },
    {
      "cell_type": "markdown",
      "source": [
        "perform a linear regression over the target classes with the ridge penalty"
      ],
      "metadata": {
        "id": "8ZnBWwfjfkoV"
      }
    },
    {
      "cell_type": "code",
      "execution_count": 63,
      "metadata": {
        "colab": {
          "base_uri": "https://localhost:8080/"
        },
        "id": "dj5bVae88cWP",
        "outputId": "9d7f5102-b208-4fdc-c0cb-ba369f99b8b1"
      },
      "outputs": [
        {
          "output_type": "stream",
          "name": "stdout",
          "text": [
            "Coefficients: \n",
            " [[ 0.08267493  0.92352426  1.42551214  2.57298009 -0.82988251 -2.56637842\n",
            "  -2.50187552  0.07547094  0.76115559 -0.57682219  0.85075819 -0.7135458\n",
            "  -0.71041968  0.42782444 -0.38169804 -0.53775349  1.67043601 -2.68929659\n",
            "   0.01270389 -0.47091993 -8.07623386  9.71387046 -0.46178656]]\n",
            "Intercept: \n",
            " [3.97230322]\n"
          ]
        }
      ],
      "source": [
        "reg = Ridge()\n",
        "reg.fit(X_train, y_train)\n",
        "print('Coefficients: \\n', reg.coef_)\n",
        "print('Intercept: \\n', reg.intercept_)"
      ]
    },
    {
      "cell_type": "code",
      "execution_count": 64,
      "metadata": {
        "colab": {
          "base_uri": "https://localhost:8080/"
        },
        "id": "lXH7dizk8cWX",
        "outputId": "be870bbd-f268-4ac5-96a6-14bc21294268"
      },
      "outputs": [
        {
          "output_type": "stream",
          "name": "stdout",
          "text": [
            "R2: 0.645\n",
            "MSE: 0.747\n",
            "MAE: 0.673\n"
          ]
        }
      ],
      "source": [
        "y_pred = reg.predict(X_test)\n",
        "print('R2: %.3f' % r2_score(y_test, y_pred))\n",
        "print('MSE: %.3f' % mean_squared_error(y_test, y_pred))\n",
        "print('MAE: %.3f' % mean_absolute_error(y_test, y_pred))"
      ]
    },
    {
      "cell_type": "markdown",
      "source": [
        "do the same as you did for the linear regression, except that this time you have the ridge penalty."
      ],
      "metadata": {
        "id": "j_8zDrh-fpyd"
      }
    },
    {
      "cell_type": "code",
      "source": [
        "for element in col_names:\n",
        "  dummy_x_tr=X_train_df.loc[:, X_train_df.columns != element]\n",
        "  dummy_y_tr=X_train_df[[element]]\n",
        "  dummy_x_te=X_test_df.loc[:, X_test_df.columns != element]\n",
        "  dummy_y_te=X_test_df[[element]]\n",
        "  X_test_dummy = dummy_x_te.values\n",
        "  y_train_dummy = dummy_y_tr.values\n",
        "  X_train_dummy = dummy_x_tr.values\n",
        "  y_test_dummy = dummy_y_te.values\n",
        "  reg = Ridge()\n",
        "  reg.fit(X_train_dummy, y_train_dummy)\n",
        "  print('Multi regression for class ', element)\n",
        "  print('Coefficients: \\n', reg.coef_)\n",
        "  print('Intercept: \\n', reg.intercept_)\n",
        "  y_pred = reg.predict(X_test_dummy)\n",
        "  print('R2: %.3f' % r2_score(y_test_dummy, y_pred))\n",
        "  print('MSE: %.3f' % mean_squared_error(y_test_dummy, y_pred))\n",
        "  print('MAE: %.3f' % mean_absolute_error(y_test_dummy, y_pred))\n"
      ],
      "metadata": {
        "colab": {
          "base_uri": "https://localhost:8080/"
        },
        "id": "mUerrvxbNx56",
        "outputId": "766cf0ed-e250-4a21-f24b-047fc1384ac0"
      },
      "execution_count": 65,
      "outputs": [
        {
          "output_type": "stream",
          "name": "stdout",
          "text": [
            "Multi regression for class  tBodyAcc-correlation()-X,Y\n",
            "Coefficients: \n",
            " [[-0.24336124 -0.48119165  0.40417198 -0.16898707 -0.21329361 -0.51681484\n",
            "  -0.40217515 -0.01311441  0.08257203  0.12806089 -0.22686815  0.0502987\n",
            "   0.00842272  0.02491237 -0.14199411 -0.09381931  0.2141388  -0.08466269\n",
            "   0.04941651 -0.39475579 -0.27543261 -0.87773884]]\n",
            "Intercept: \n",
            " [-0.40201058]\n",
            "R2: 0.006\n",
            "MSE: 0.117\n",
            "MAE: 0.258\n",
            "Multi regression for class  tGravityAcc-mean()-X\n",
            "Coefficients: \n",
            " [[-1.22875919e-03  5.61575404e-02  1.71169721e-01  1.01320741e+00\n",
            "  -6.22900420e-02 -1.71056383e-01 -3.58519783e-03 -1.69580893e-02\n",
            "  -3.07754077e-03 -8.88212098e-04  2.36815178e-03 -6.02560140e-03\n",
            "   2.83138135e-03 -1.05867707e-03  7.11582851e-04 -7.52145867e-03\n",
            "   6.17079689e-03 -1.20076960e-04 -2.21285243e-03  2.16565739e-02\n",
            "  -9.85068753e-03 -1.13105448e-02]]\n",
            "Intercept: \n",
            " [-0.04157336]\n",
            "R2: 0.991\n",
            "MSE: 0.002\n",
            "MAE: 0.025\n",
            "Multi regression for class  tGravityAcc-max()-Y\n",
            "Coefficients: \n",
            " [[-5.23557834e-03  1.21015023e-01  2.09388573e-01 -1.63655610e-01\n",
            "   3.30563043e-01 -1.71487747e-01 -1.06147934e-01 -2.94155438e-04\n",
            "  -1.69762536e-02 -3.05994470e-03  1.50763750e-02 -1.60928181e-02\n",
            "   2.26838270e-02  1.00529280e-03  7.67393401e-03 -2.69078112e-02\n",
            "  -1.02810514e-02  6.85494343e-03 -5.73490087e-03  7.58492393e-02\n",
            "  -1.56110941e-02 -8.62960330e-01]]\n",
            "Intercept: \n",
            " [-0.04361937]\n",
            "R2: 0.972\n",
            "MSE: 0.004\n",
            "MAE: 0.038\n",
            "Multi regression for class  tGravityAcc-max()-Z\n",
            "Coefficients: \n",
            " [[ 5.40301714e-03  4.53191452e-01  2.57262529e-01 -4.57757728e-01\n",
            "  -2.80267341e-01  9.79187431e-01 -5.54433592e-03  6.48218110e-04\n",
            "  -1.05034199e-02  5.55125506e-02 -2.40214051e-02 -9.15307199e-03\n",
            "   6.33351593e-03 -6.15308507e-03  7.79851545e-03 -3.15660692e-02\n",
            "  -9.49706183e-03  1.87380664e-03 -4.51409841e-04  9.46925767e-02\n",
            "  -3.39099955e-02 -7.15668541e-02]]\n",
            "Intercept: \n",
            " [0.01295987]\n",
            "R2: -0.368\n",
            "MSE: 0.068\n",
            "MAE: 0.128\n",
            "Multi regression for class  tGravityAcc-min()-X\n",
            "Coefficients: \n",
            " [[-8.22145205e-04  9.76288208e-01 -7.31778047e-02 -1.66594480e-01\n",
            "   5.88225407e-02  1.62688168e-01 -6.83260150e-03  2.04492301e-02\n",
            "   3.22361121e-03  4.57270642e-03 -3.89163061e-03  6.31381069e-03\n",
            "  -3.94354749e-03  1.13744343e-03 -3.45368320e-04  1.01462241e-02\n",
            "  -5.54448257e-03  5.07411503e-04  1.97886063e-03 -2.06483172e-02\n",
            "   5.66764791e-03 -1.59932832e-02]]\n",
            "Intercept: \n",
            " [0.04452554]\n",
            "R2: 0.992\n",
            "MSE: 0.002\n",
            "MAE: 0.024\n",
            "Multi regression for class  tGravityAcc-min()-Y\n",
            "Coefficients: \n",
            " [[-0.00282267 -0.16326242  0.40205985 -0.27745039  0.16000432  0.29637605\n",
            "  -0.06754852 -0.01495539  0.02143448 -0.02322074  0.02437351  0.012789\n",
            "  -0.01401382  0.00486724  0.00247828  0.01867502  0.01027085  0.00135601\n",
            "  -0.00125256 -0.0921965   0.04391908 -0.78936798]]\n",
            "Intercept: \n",
            " [0.03909606]\n",
            "R2: 0.956\n",
            "MSE: 0.007\n",
            "MAE: 0.047\n",
            "Multi regression for class  tGravityAcc-min()-Z\n",
            "Coefficients: \n",
            " [[-6.98582516e-03 -4.57937959e-01 -2.13043970e-01  9.90098549e-01\n",
            "   4.52005418e-01  3.02721214e-01 -1.54061762e-03 -8.00197023e-04\n",
            "   8.84626714e-03 -4.66430113e-02  9.42586823e-03  1.17387131e-02\n",
            "  -9.30789739e-03  5.70170554e-03 -1.02120237e-02  3.95767363e-02\n",
            "   1.05035101e-02 -1.38124477e-03  1.86086229e-03 -1.01395664e-01\n",
            "   2.49921290e-02  1.36114287e-01]]\n",
            "Intercept: \n",
            " [-0.0095591]\n",
            "R2: 0.241\n",
            "MSE: 0.069\n",
            "MAE: 0.128\n",
            "Multi regression for class  tGravityAcc-energy()-Y\n",
            "Coefficients: \n",
            " [[-6.80178961e-02 -1.20089688e-01 -1.64995816e+00 -7.01434886e-02\n",
            "  -2.37519350e-01 -8.63258371e-01 -1.92761410e-02 -3.91931236e-03\n",
            "   7.87252196e-03  1.19763396e-01 -4.56907112e-02  6.33950543e-02\n",
            "  -2.04260081e-02  4.99587182e-02  4.90483238e-02  2.61373952e-02\n",
            "   2.58402662e-02  3.72725788e-02 -8.73437204e-03  6.47400366e-02\n",
            "  -1.49220841e-01 -3.95666520e+00]]\n",
            "Intercept: \n",
            " [-0.22132266]\n",
            "R2: 0.706\n",
            "MSE: 0.072\n",
            "MAE: 0.128\n",
            "Multi regression for class  tGravityAcc-arCoeff()-X,3\n",
            "Coefficients: \n",
            " [[-0.00264064 -0.67627255 -0.00544365  0.00976363  0.84633464 -0.22754899\n",
            "  -0.01191995 -0.00466619  0.14907669 -0.06947662 -0.06609713 -0.03704076\n",
            "   0.06535272  0.00950686  0.08953299 -0.28040429  0.14160538  0.03149454\n",
            "   0.02636288 -0.32527464  0.3209904  -0.25714741]]\n",
            "Intercept: \n",
            " [-0.64734811]\n",
            "R2: 0.519\n",
            "MSE: 0.021\n",
            "MAE: 0.108\n",
            "Multi regression for class  tGravityAcc-arCoeff()-Y,3\n",
            "Coefficients: \n",
            " [[ 0.0340527  -0.25136627 -0.64344854 -0.32402546  0.27325376  0.66795709\n",
            "   0.26989564  0.01919661  0.30532902 -0.11962725 -0.24352811  0.00372394\n",
            "  -0.08533581  0.02864415  0.29611264  0.03331726 -0.03137719  0.0775175\n",
            "   0.06544529  0.51227015 -0.36016782 -0.27788789]]\n",
            "Intercept: \n",
            " [0.25108955]\n",
            "R2: 0.468\n",
            "MSE: 0.045\n",
            "MAE: 0.163\n",
            "Multi regression for class  tGravityAcc-arCoeff()-Z,2\n",
            "Coefficients: \n",
            " [[ 0.00548469 -0.00753419 -0.01204487  0.17785101  0.04025442 -0.07514991\n",
            "  -0.14778799  0.03032853 -0.01477794 -0.01242358  0.98226262 -0.01781681\n",
            "  -0.00179986 -0.00264573 -0.05831756  0.02254331 -0.10037125 -0.02273092\n",
            "  -0.04178338 -0.10796077  0.06741845 -0.07524673]]\n",
            "Intercept: \n",
            " [-0.2056118]\n",
            "R2: 0.818\n",
            "MSE: 0.012\n",
            "MAE: 0.054\n",
            "Multi regression for class  tGravityAcc-arCoeff()-Z,4\n",
            "Coefficients: \n",
            " [[-0.00865798  0.01789935  0.05288023 -0.06857586 -0.03052668  0.07028751\n",
            "   0.02661225 -0.0103101  -0.01252753 -0.02253583  0.87525649  0.01690935\n",
            "   0.01339309  0.004944    0.018983   -0.0319275   0.08606416  0.01837344\n",
            "   0.02708403  0.11232292 -0.09487562  0.11836068]]\n",
            "Intercept: \n",
            " [0.17469094]\n",
            "R2: 0.837\n",
            "MSE: 0.009\n",
            "MAE: 0.044\n",
            "Multi regression for class  tBodyGyro-max()-X\n",
            "Coefficients: \n",
            " [[ 0.01153351 -0.27364652 -0.33914891 -0.15700072  0.2975784   0.2215943\n",
            "   0.19913274  0.08595127 -0.04218175  0.00207057 -0.09538931  0.10159887\n",
            "   0.0276583   0.03962744  0.01847609  0.04526334  0.45847483 -0.04437464\n",
            "  -0.01068278  0.89610875 -0.84035257  0.04977712]]\n",
            "Intercept: \n",
            " [-0.37516491]\n",
            "R2: 0.654\n",
            "MSE: 0.023\n",
            "MAE: 0.100\n",
            "Multi regression for class  tBodyGyro-min()-X\n",
            "Coefficients: \n",
            " [[ 0.00148116  0.09861268  0.36662282  0.08331524 -0.14254164 -0.18621875\n",
            "  -0.12109288 -0.02123857  0.05707595 -0.03638836 -0.00739015  0.06171454\n",
            "   0.02121145 -0.00401234  0.00163539  0.07938413 -0.42132832  0.06923054\n",
            "  -0.03384845 -0.65651129  0.4022503   0.15449258]]\n",
            "Intercept: \n",
            " [0.29464317]\n",
            "R2: 0.710\n",
            "MSE: 0.016\n",
            "MAE: 0.083\n",
            "Multi regression for class  tBodyGyro-correlation()-Y,Z\n",
            "Coefficients: \n",
            " [[ 0.03643778 -0.30667973  0.1351397  -0.67322421  0.34195715  0.537944\n",
            "   0.61696283  0.43205623  0.06905799  0.1015908  -0.09035403  0.18948382\n",
            "   0.25277144 -0.03337224  0.12663513 -0.0358796   0.16872494 -0.08613747\n",
            "  -0.05307116  1.26340941 -1.52767787  1.2073538 ]]\n",
            "Intercept: \n",
            " [-0.10227836]\n",
            "R2: -0.200\n",
            "MSE: 0.179\n",
            "MAE: 0.320\n",
            "Multi regression for class  tBodyAccMag-arCoeff()1\n",
            "Coefficients: \n",
            " [[-0.0422655   0.04194941  0.20993614  0.1736431  -0.02113018  0.05574218\n",
            "  -0.22487688  0.08632408  0.13235447  0.21372441 -0.40530301  0.14805991\n",
            "   0.02398397  0.00276813  0.0257711  -0.10248537  0.41243609  0.06117914\n",
            "  -0.00269178 -0.94719011  0.46388198  0.36335457]]\n",
            "Intercept: \n",
            " [0.30691024]\n",
            "R2: 0.592\n",
            "MSE: 0.032\n",
            "MAE: 0.140\n",
            "Multi regression for class  fBodyAcc-bandsEnergy()-1,8\n",
            "Coefficients: \n",
            " [[-0.01023442 -0.16250161 -0.26977566 -0.25758546  0.22749946  0.15393917\n",
            "   0.31939508  0.01685875 -0.15191317  0.00881296  0.0574187  -0.0912626\n",
            "   0.0215334   0.04924418 -0.00267597 -0.03755927  0.31052735 -0.00850493\n",
            "   0.01840184  0.09772713  0.61770219 -0.13880148]]\n",
            "Intercept: \n",
            " [-0.08894538]\n",
            "R2: 0.794\n",
            "MSE: 0.010\n",
            "MAE: 0.066\n",
            "Multi regression for class  fBodyAccJerk-bandsEnergy()-1,24\n",
            "Coefficients: \n",
            " [[ 0.01117247  0.06376459 -0.04929974 -0.03706575 -0.05945928  0.04049272\n",
            "   0.04054203  0.00797155  0.03669216 -0.00396962 -0.12227221  0.11766115\n",
            "   0.10431921 -0.12500421  0.00601861  0.07229273  0.1485192   0.01792655\n",
            "   0.03221512 -0.06894045  0.57899352  0.01599488]]\n",
            "Intercept: \n",
            " [-0.08375799]\n",
            "R2: 0.829\n",
            "MSE: 0.007\n",
            "MAE: 0.053\n",
            "Multi regression for class  fBodyGyro-maxInds-X\n",
            "Coefficients: \n",
            " [[-0.03180647 -0.00893445  0.23669042  0.05265966  0.03918218  0.03849499\n",
            "  -0.0383894   0.08279514  0.05876226  0.07061624 -0.1993908   0.18087185\n",
            "  -0.07270317  0.14790109 -0.02212476  0.07721667 -0.02929025  0.1290822\n",
            "   0.09864206  0.2026935  -0.21089648  0.40242988]]\n",
            "Intercept: \n",
            " [-0.81725143]\n",
            "R2: 0.022\n",
            "MSE: 0.031\n",
            "MAE: 0.129\n",
            "Multi regression for class  fBodyGyro-maxInds-Z\n",
            "Coefficients: \n",
            " [[ 0.02234822 -0.198202   -0.23836928 -0.01527115  0.18394631 -0.04280406\n",
            "   0.06225904 -0.0233558   0.05921115  0.07176799 -0.44120384  0.3209529\n",
            "  -0.02106931 -0.08704823 -0.0164094  -0.00408972  0.07628886  0.27923958\n",
            "   0.11874345  0.21320549 -0.31647146 -0.3264423 ]]\n",
            "Intercept: \n",
            " [-0.37527338]\n",
            "R2: 0.197\n",
            "MSE: 0.038\n",
            "MAE: 0.136\n",
            "Multi regression for class  fBodyAccMag-std()\n",
            "Coefficients: \n",
            " [[-0.01718671  0.18674055  0.30350713  0.30839693 -0.18477953 -0.30331628\n",
            "  -0.32658851  0.01666592 -0.07033221  0.05408101 -0.10974758  0.12814145\n",
            "   0.17014534 -0.16253867  0.03760724 -0.13854335  0.03900393 -0.05752871\n",
            "   0.02348987  0.0205254   0.91027631  0.06387737]]\n",
            "Intercept: \n",
            " [0.29074645]\n",
            "R2: 0.920\n",
            "MSE: 0.009\n",
            "MAE: 0.065\n",
            "Multi regression for class  fBodyAccMag-energy()\n",
            "Coefficients: \n",
            " [[-0.00738246 -0.05229222 -0.03845675 -0.06798975  0.03122437  0.08895208\n",
            "   0.04955716 -0.02364871  0.0427285  -0.02340843  0.04219192 -0.06663424\n",
            "  -0.09822963  0.06131017 -0.02799502  0.04177127  0.15177283  0.29744444\n",
            "  -0.01504637 -0.0187564   0.56039578  0.00511074]]\n",
            "Intercept: \n",
            " [-0.18022589]\n",
            "R2: 0.943\n",
            "MSE: 0.003\n",
            "MAE: 0.038\n",
            "Multi regression for class  angle(Y,gravityMean)\n",
            "Coefficients: \n",
            " [[-0.00463762 -0.01183581 -0.41905794 -0.028286   -0.0173689  -0.31515655\n",
            "   0.0532048  -0.1236093  -0.00674764 -0.00356025 -0.00928287  0.0163868\n",
            "   0.00114698  0.00464181  0.00436142  0.00644978 -0.00672284  0.00161978\n",
            "   0.00565974 -0.00381386  0.00775198  0.00100746]]\n",
            "Intercept: \n",
            " [-0.01498895]\n",
            "R2: 0.985\n",
            "MSE: 0.002\n",
            "MAE: 0.017\n"
          ]
        }
      ]
    },
    {
      "cell_type": "markdown",
      "metadata": {
        "id": "iGJkkSJE8cWB"
      },
      "source": [
        "# Lasso"
      ]
    },
    {
      "cell_type": "markdown",
      "source": [
        "Select the best, worse and middle performing variables according to lasso regularization, then do a grid search to identify the best paramenters for alpha (tuning of hyperparameter)"
      ],
      "metadata": {
        "id": "7MMWfLwpf0gS"
      }
    },
    {
      "cell_type": "code",
      "execution_count": 66,
      "metadata": {
        "colab": {
          "base_uri": "https://localhost:8080/"
        },
        "id": "pF7WeRWo8cWD",
        "outputId": "a4363718-d7df-4591-875f-6c2ccd9c2468"
      },
      "outputs": [
        {
          "output_type": "stream",
          "name": "stderr",
          "text": [
            "/usr/local/lib/python3.7/dist-packages/sklearn/linear_model/_coordinate_descent.py:648: ConvergenceWarning: Objective did not converge. You might want to increase the number of iterations, check the scale of the features or consider increasing regularisation. Duality gap: 3.494e-01, tolerance: 1.928e-01\n",
            "  coef_, l1_reg, l2_reg, X, y, max_iter, tol, rng, random, positive\n",
            "/usr/local/lib/python3.7/dist-packages/sklearn/linear_model/_coordinate_descent.py:648: ConvergenceWarning: Objective did not converge. You might want to increase the number of iterations, check the scale of the features or consider increasing regularisation. Duality gap: 6.429e-01, tolerance: 1.928e-01\n",
            "  coef_, l1_reg, l2_reg, X, y, max_iter, tol, rng, random, positive\n",
            "/usr/local/lib/python3.7/dist-packages/sklearn/linear_model/_coordinate_descent.py:648: ConvergenceWarning: Objective did not converge. You might want to increase the number of iterations, check the scale of the features or consider increasing regularisation. Duality gap: 3.366e-01, tolerance: 9.462e-02\n",
            "  coef_, l1_reg, l2_reg, X, y, max_iter, tol, rng, random, positive\n",
            "/usr/local/lib/python3.7/dist-packages/sklearn/linear_model/_coordinate_descent.py:648: ConvergenceWarning: Objective did not converge. You might want to increase the number of iterations, check the scale of the features or consider increasing regularisation. Duality gap: 2.455e+00, tolerance: 9.462e-02\n",
            "  coef_, l1_reg, l2_reg, X, y, max_iter, tol, rng, random, positive\n",
            "/usr/local/lib/python3.7/dist-packages/sklearn/linear_model/_coordinate_descent.py:648: ConvergenceWarning: Objective did not converge. You might want to increase the number of iterations, check the scale of the features or consider increasing regularisation. Duality gap: 1.335e+02, tolerance: 9.462e-02\n",
            "  coef_, l1_reg, l2_reg, X, y, max_iter, tol, rng, random, positive\n",
            "/usr/local/lib/python3.7/dist-packages/sklearn/linear_model/_coordinate_descent.py:648: ConvergenceWarning: Objective did not converge. You might want to increase the number of iterations, check the scale of the features or consider increasing regularisation. Duality gap: 3.093e+02, tolerance: 9.462e-02\n",
            "  coef_, l1_reg, l2_reg, X, y, max_iter, tol, rng, random, positive\n",
            "/usr/local/lib/python3.7/dist-packages/sklearn/linear_model/_coordinate_descent.py:648: ConvergenceWarning: Objective did not converge. You might want to increase the number of iterations, check the scale of the features or consider increasing regularisation. Duality gap: 3.388e+02, tolerance: 9.462e-02\n",
            "  coef_, l1_reg, l2_reg, X, y, max_iter, tol, rng, random, positive\n",
            "/usr/local/lib/python3.7/dist-packages/sklearn/linear_model/_coordinate_descent.py:648: ConvergenceWarning: Objective did not converge. You might want to increase the number of iterations, check the scale of the features or consider increasing regularisation. Duality gap: 4.342e-01, tolerance: 8.500e-02\n",
            "  coef_, l1_reg, l2_reg, X, y, max_iter, tol, rng, random, positive\n",
            "/usr/local/lib/python3.7/dist-packages/sklearn/linear_model/_coordinate_descent.py:648: ConvergenceWarning: Objective did not converge. You might want to increase the number of iterations, check the scale of the features or consider increasing regularisation. Duality gap: 2.968e+00, tolerance: 8.500e-02\n",
            "  coef_, l1_reg, l2_reg, X, y, max_iter, tol, rng, random, positive\n",
            "/usr/local/lib/python3.7/dist-packages/sklearn/linear_model/_coordinate_descent.py:648: ConvergenceWarning: Objective did not converge. You might want to increase the number of iterations, check the scale of the features or consider increasing regularisation. Duality gap: 3.304e+00, tolerance: 8.500e-02\n",
            "  coef_, l1_reg, l2_reg, X, y, max_iter, tol, rng, random, positive\n",
            "/usr/local/lib/python3.7/dist-packages/sklearn/linear_model/_coordinate_descent.py:648: ConvergenceWarning: Objective did not converge. You might want to increase the number of iterations, check the scale of the features or consider increasing regularisation. Duality gap: 3.335e+00, tolerance: 8.500e-02\n",
            "  coef_, l1_reg, l2_reg, X, y, max_iter, tol, rng, random, positive\n"
          ]
        }
      ],
      "source": [
        " variabili=['tGravityAcc-mean()-X','tBodyAcc-correlation()-X,Y','tGravityAcc-max()-Z']\n",
        "\n",
        "\n",
        "r2_to_plot=[]\n",
        "for element in variabili:\n",
        "  dummy_x_tr=X_train_df.loc[:, X_train_df.columns != element]\n",
        "  dummy_y_tr=X_train_df[[element]]\n",
        "  dummy_x_te=X_test_df.loc[:, X_test_df.columns != element]\n",
        "  dummy_y_te=X_test_df[[element]]\n",
        "  X_test_dummy = dummy_x_te.values\n",
        "  y_train_dummy = dummy_y_tr.values\n",
        "  X_train_dummy = dummy_x_tr.values\n",
        "  y_test_dummy = dummy_y_te.values\n",
        "\n",
        "  alpha=[1,0.1,0.01,0.001,0.0001,0.00001,0.000001,0.0000001]\n",
        "  r2_scores=[]\n",
        "  for al in alpha:\n",
        "    reg = Lasso(alpha=al)\n",
        "    reg.fit(X_train_dummy, y_train_dummy)\n",
        "    y_pred = reg.predict(X_test_dummy)\n",
        "    r2_scores.append(r2_score(y_test_dummy, y_pred))\n",
        "    #print('Multi regression for class ', element)\n",
        "    #print(al, 'R2: %.3f' % r2_score(y_test_dummy, y_pred))\n",
        "    #print(r2_scores)\n",
        "  r2_to_plot.append(r2_scores)\n",
        "  #print('Multi regression for class ', 'tGravityAcc-mean()-X')\n",
        "  #print('Coefficients: \\n', reg.coef_)\n",
        "  #print('Intercept: \\n', reg.intercept_)\n",
        "  #print('R2: %.3f' % r2_score(y_test_dummy, y_pred))\n",
        "  #print('MSE: %.3f' % mean_squared_error(y_test_dummy, y_pred))\n",
        "  #print('MAE: %.3f' % mean_absolute_error(y_test_dummy, y_pred))"
      ]
    },
    {
      "cell_type": "code",
      "source": [
        "fig, ax =plt.subplots()\n",
        "ax.set_xlabel(\"alpha\")\n",
        "ax.set_ylabel(\"R2\")\n",
        "ax.set_title(\"R2 vs alpha for various classes\")\n",
        "ax.plot(alpha,r2_to_plot[0], marker ='o',label=variabili[0],drawstyle='steps-post')\n",
        "ax.plot(alpha,r2_to_plot[1], marker ='o',label=variabili[1],drawstyle='steps-post')\n",
        "ax.plot(alpha,r2_to_plot[2], marker ='o',label=variabili[2],drawstyle='steps-post')\n",
        "ax.set_xscale('log')\n",
        "ax.legend()\n",
        "plt.show()"
      ],
      "metadata": {
        "colab": {
          "base_uri": "https://localhost:8080/",
          "height": 299
        },
        "id": "t7cGvfoquS9Z",
        "outputId": "ef2afde7-6774-45de-cd47-19e9bc392ceb"
      },
      "execution_count": 67,
      "outputs": [
        {
          "output_type": "display_data",
          "data": {
            "text/plain": [
              "<Figure size 432x288 with 1 Axes>"
            ],
            "image/png": "[encoded data removed]"
          },
          "metadata": {
            "needs_background": "light"
          }
        }
      ]
    },
    {
      "cell_type": "code",
      "execution_count": 69,
      "metadata": {
        "colab": {
          "base_uri": "https://localhost:8080/"
        },
        "id": "QHTotIdZ8cWL",
        "outputId": "bf47c963-b3f0-41c0-95ec-ecd7789964c8"
      },
      "outputs": [
        {
          "output_type": "stream",
          "name": "stdout",
          "text": [
            "Multi regression for class  tGravityAcc-mean()-X\n",
            "Coefficients: \n",
            " [-0.        -0.        -0.         0.9779398 -0.        -0.\n",
            " -0.        -0.        -0.         0.         0.         0.\n",
            " -0.         0.        -0.         0.         0.        -0.\n",
            "  0.         0.         0.         0.       ]\n",
            "Intercept: \n",
            " [7.09878033e-05]\n",
            "R2: 0.997\n",
            "MSE: 0.001\n",
            "MAE: 0.018\n"
          ]
        }
      ],
      "source": [
        "dummy_x_tr=X_train_df.loc[:, X_train_df.columns != variabili[0]]\n",
        "dummy_y_tr=X_train_df[[variabili[0]]]\n",
        "dummy_x_te=X_test_df.loc[:, X_test_df.columns != variabili[0]]\n",
        "dummy_y_te=X_test_df[[variabili[0]]]\n",
        "X_test_dummy = dummy_x_te.values\n",
        "y_train_dummy = dummy_y_tr.values\n",
        "X_train_dummy = dummy_x_tr.values\n",
        "y_test_dummy = dummy_y_te.values\n",
        "\n",
        "reg = Lasso(alpha=0.01)\n",
        "reg.fit(X_train_dummy, y_train_dummy)\n",
        "y_pred = reg.predict(X_test_dummy)\n",
        "\n",
        "print('Multi regression for class ', variabili[0])\n",
        "print('Coefficients: \\n', reg.coef_)\n",
        "print('Intercept: \\n', reg.intercept_)\n",
        "\n",
        "print('R2: %.3f' % r2_score(y_test_dummy, y_pred))\n",
        "print('MSE: %.3f' % mean_squared_error(y_test_dummy, y_pred))\n",
        "print('MAE: %.3f' % mean_absolute_error(y_test_dummy, y_pred))"
      ]
    },
    {
      "cell_type": "markdown",
      "metadata": {
        "id": "JTDla96Q8cWf"
      },
      "source": [
        "# Logistic Regression"
      ]
    },
    {
      "cell_type": "markdown",
      "source": [
        "Faccio due classi: dynamic (1,2,3 aka walking, upstairs and downstairs) e static (4,5,6 aka sitting, standing laying)"
      ],
      "metadata": {
        "id": "dB-AuaYmb995"
      }
    },
    {
      "cell_type": "code",
      "source": [
        "y_train_bi=[]\n",
        "for element in y_train:\n",
        "  if element<4:\n",
        "    new_el=[0]\n",
        "  else:\n",
        "    new_el=[1]\n",
        "  y_train_bi.append(new_el)\n"
      ],
      "metadata": {
        "id": "e3AWyym3QhZB"
      },
      "execution_count": 10,
      "outputs": []
    },
    {
      "cell_type": "code",
      "source": [
        "y_test_bi=[]\n",
        "for element in y_test:\n",
        "  if element<4:\n",
        "    new_el=[0]\n",
        "  else:\n",
        "    new_el=[1]\n",
        "  y_test_bi.append(new_el)"
      ],
      "metadata": {
        "id": "N2zH2ZAFQ7Lc"
      },
      "execution_count": 11,
      "outputs": []
    },
    {
      "cell_type": "code",
      "execution_count": 9,
      "metadata": {
        "id": "ZVzZ0wrl8cWl"
      },
      "outputs": [],
      "source": [
        "from sklearn.linear_model import LogisticRegression\n",
        "from sklearn.metrics import accuracy_score, f1_score, classification_report"
      ]
    },
    {
      "cell_type": "code",
      "execution_count": 10,
      "metadata": {
        "id": "53EcI9Ip8cWo"
      },
      "outputs": [],
      "source": [
        "from scipy.special import expit"
      ]
    },
    {
      "cell_type": "markdown",
      "source": [
        "Per ogni attributo mi vado a vedere la logistic regression"
      ],
      "metadata": {
        "id": "SHeij6qnc03W"
      }
    },
    {
      "cell_type": "code",
      "source": [
        "target_names=['WALKING','WALKING UPSTAIRS','WALKING DOWNSTAIRS','SITTING','STANDING']"
      ],
      "metadata": {
        "id": "rMtnWgkeIYJj"
      },
      "execution_count": 41,
      "outputs": []
    },
    {
      "cell_type": "code",
      "source": [
        "clf = LogisticRegression(random_state=0,multi_class='multinomial')\n",
        "clf.fit(X_train, y_train)\n",
        "y_pred = clf.predict(X_test)\n",
        "print('Accuracy %s' % accuracy_score(y_test, y_pred))\n",
        "print('F1-score %s' % f1_score(y_test, y_pred, average='weighted'))\n",
        "report=classification_report(y_test, y_pred,output_dict=True,digits=2,target_names=target_names)\n",
        "report_df = pd.DataFrame(report).transpose()\n",
        "\n",
        "print(report_df.to_latex())"
      ],
      "metadata": {
        "colab": {
          "base_uri": "https://localhost:8080/"
        },
        "id": "RzX1vujpyBtr",
        "outputId": "6e6fb774-c86c-4516-e4f8-45b235e9de29"
      },
      "execution_count": 42,
      "outputs": [
        {
          "output_type": "stream",
          "name": "stderr",
          "text": [
            "/usr/local/lib/python3.7/dist-packages/sklearn/utils/validation.py:993: DataConversionWarning: A column-vector y was passed when a 1d array was expected. Please change the shape of y to (n_samples, ), for example using ravel().\n",
            "  y = column_or_1d(y, warn=True)\n"
          ]
        },
        {
          "output_type": "stream",
          "name": "stdout",
          "text": [
            "Accuracy 0.8647302904564316\n",
            "F1-score 0.8636794983245066\n",
            "\\begin{tabular}{lrrrr}\n",
            "\\toprule\n",
            "{} &  precision &    recall &  f1-score &     support \\\\\n",
            "\\midrule\n",
            "WALKING            &   0.854167 &  0.991935 &  0.917910 &   496.00000 \\\\\n",
            "WALKING UPSTAIRS   &   0.898851 &  0.830149 &  0.863135 &   471.00000 \\\\\n",
            "WALKING DOWNSTAIRS &   0.973822 &  0.885714 &  0.927681 &   420.00000 \\\\\n",
            "SITTING            &   0.855107 &  0.733198 &  0.789474 &   491.00000 \\\\\n",
            "STANDING           &   0.786913 &  0.881579 &  0.831560 &   532.00000 \\\\\n",
            "accuracy           &   0.864730 &  0.864730 &  0.864730 &     0.86473 \\\\\n",
            "macro avg          &   0.873772 &  0.864515 &  0.865952 &  2410.00000 \\\\\n",
            "weighted avg       &   0.869098 &  0.864730 &  0.863679 &  2410.00000 \\\\\n",
            "\\bottomrule\n",
            "\\end{tabular}\n",
            "\n"
          ]
        },
        {
          "output_type": "stream",
          "name": "stderr",
          "text": [
            "/usr/local/lib/python3.7/dist-packages/sklearn/linear_model/_logistic.py:818: ConvergenceWarning: lbfgs failed to converge (status=1):\n",
            "STOP: TOTAL NO. of ITERATIONS REACHED LIMIT.\n",
            "\n",
            "Increase the number of iterations (max_iter) or scale the data as shown in:\n",
            "    https://scikit-learn.org/stable/modules/preprocessing.html\n",
            "Please also refer to the documentation for alternative solver options:\n",
            "    https://scikit-learn.org/stable/modules/linear_model.html#logistic-regression\n",
            "  extra_warning_msg=_LOGISTIC_SOLVER_CONVERGENCE_MSG,\n"
          ]
        }
      ]
    },
    {
      "cell_type": "code",
      "source": [
        "from sklearn.metrics import plot_confusion_matrix\n",
        "plot_confusion_matrix(clf,\n",
        "                      X_test,\n",
        "                      y_test,\n",
        "                      cmap='Blues',\n",
        "                      values_format='d',\n",
        "                      colorbar=False\n",
        "                      )\n",
        "plt.savefig('confusion_matrix.pdf',bbox_inches = 'tight')"
      ],
      "metadata": {
        "colab": {
          "base_uri": "https://localhost:8080/",
          "height": 334
        },
        "id": "bvkUswqvHhM_",
        "outputId": "e746fc32-a70b-49cc-9e30-ea476b41e97f"
      },
      "execution_count": 46,
      "outputs": [
        {
          "output_type": "stream",
          "name": "stderr",
          "text": [
            "/usr/local/lib/python3.7/dist-packages/sklearn/utils/deprecation.py:87: FutureWarning: Function plot_confusion_matrix is deprecated; Function `plot_confusion_matrix` is deprecated in 1.0 and will be removed in 1.2. Use one of the class methods: ConfusionMatrixDisplay.from_predictions or ConfusionMatrixDisplay.from_estimator.\n",
            "  warnings.warn(msg, category=FutureWarning)\n"
          ]
        },
        {
          "output_type": "display_data",
          "data": {
            "text/plain": [
              "<Figure size 432x288 with 1 Axes>"
            ],
            "image/png": "[encoded data removed]"
          },
          "metadata": {
            "needs_background": "light"
          }
        }
      ]
    },
    {
      "cell_type": "code",
      "source": [
        "def plot_multiclass_roc(clf, X, y, clf_name, ax = None):\n",
        "    if not isinstance(y, type(np.array([]))):\n",
        "        y = y.values\n",
        "    if ax is None:\n",
        "        fig = plt.figure(figsize = (6, 4))\n",
        "        ax = fig.add_subplot()\n",
        "    y_pred_proba = clf.predict_proba(X)   \n",
        "    for i, label in enumerate(np.unique(y)):\n",
        "        class_i_arr = (y == label).astype(int)\n",
        "        class_i_prob_arr = y_pred_proba[:, i]\n",
        "        RocCurveDisplay.from_predictions(class_i_arr, class_i_prob_arr,\n",
        "                        name = clf_name + f' of class {label}', ax = ax)\n",
        "    random = ax.plot(np.linspace(0,1,100), np.linspace(0,1,100), 'k--', \n",
        "                 label = 'Random Classifier')\n",
        "    ax.set_ylabel('True Positive Rate', fontsize = 14)\n",
        "    ax.set_xlabel('False Positive Rate', fontsize = 14)"
      ],
      "metadata": {
        "id": "BQyFpmkU5YZ3"
      },
      "execution_count": 12,
      "outputs": []
    },
    {
      "cell_type": "code",
      "source": [
        "fig, ax = plt.subplots(1,1, figsize = (6, 4))\n",
        "plot_multiclass_roc(clf, X_test, y_test, \n",
        "                    'Log Reg', ax = ax)\n",
        "ax.legend(fontsize = 'small')\n",
        "plt.savefig('log_multiclass_roc.pdf', bbox_inches = 'tight')\n",
        "plt.show()"
      ],
      "metadata": {
        "colab": {
          "base_uri": "https://localhost:8080/",
          "height": 283
        },
        "id": "g8yMt7up5lJp",
        "outputId": "ec407a55-0181-4e3c-c7b9-b0110b58771f"
      },
      "execution_count": 15,
      "outputs": [
        {
          "output_type": "display_data",
          "data": {
            "text/plain": [
              "<Figure size 432x288 with 1 Axes>"
            ],
            "image/png": "[encoded data removed]"
          },
          "metadata": {
            "needs_background": "light"
          }
        }
      ]
    },
    {
      "cell_type": "markdown",
      "source": [
        "poi vado a vedere come contribuiscono singolarmente le variabili in sta multi"
      ],
      "metadata": {
        "id": "TaP_NVn_gFrm"
      }
    },
    {
      "cell_type": "code",
      "source": [
        "score_array=[]\n",
        "\n",
        "for i in range(0,23):\n",
        "  print(\"ITERATION %d\",i)\n",
        "  clf = LogisticRegression(random_state=0)\n",
        "  clf.fit(X_train.T[i].reshape(-1,1), y_train_bi)\n",
        "  y_pred = clf.predict(X_test.T[i].reshape(-1,1))\n",
        "\n",
        "  print('Accuracy %s' % accuracy_score(y_test_bi, y_pred))\n",
        "  print('F1-score %s' % f1_score(y_test_bi, y_pred, average='weighted'))\n",
        "  print(classification_report(y_test_bi, y_pred))\n",
        "\n",
        "  score_array.append([i,accuracy_score(y_test_bi, y_pred),f1_score(y_test_bi, y_pred, average='weighted')])\n",
        "\n",
        "  loss = expit(sorted(X_test.T[i].reshape(-1,1)) * clf.coef_ + clf.intercept_).ravel()\n",
        "  plt.plot(sorted(X_test.T[i].reshape(-1,1)), loss, color='red', linewidth=3)\n",
        "  plt.scatter(X_train.T[i].reshape(-1,1), y_train_bi)\n",
        "  #plt.xlabel(selected_columns[0], fontsize=16)\n",
        "  #plt.ylabel('Occupancy', fontsize=16)\n",
        "  plt.tick_params(axis='both', which='major', labelsize=16)\n",
        "  plt.show()\n"
      ],
      "metadata": {
        "colab": {
          "base_uri": "https://localhost:8080/",
          "height": 1000
        },
        "id": "LcaZxul3TZ0Q",
        "outputId": "07b87a20-fc26-43f6-8ff6-dab85131fd44"
      },
      "execution_count": null,
      "outputs": [
        {
          "output_type": "stream",
          "name": "stdout",
          "text": [
            "ITERATION %d 0\n",
            "Accuracy 0.656939260264676\n",
            "F1-score 0.653336207249566\n",
            "              precision    recall  f1-score   support\n",
            "\n",
            "           0       0.66      0.55      0.60      1387\n",
            "           1       0.65      0.75      0.70      1560\n",
            "\n",
            "    accuracy                           0.66      2947\n",
            "   macro avg       0.66      0.65      0.65      2947\n",
            "weighted avg       0.66      0.66      0.65      2947\n",
            "\n"
          ]
        },
        {
          "output_type": "stream",
          "name": "stderr",
          "text": [
            "/usr/local/lib/python3.7/dist-packages/sklearn/utils/validation.py:993: DataConversionWarning: A column-vector y was passed when a 1d array was expected. Please change the shape of y to (n_samples, ), for example using ravel().\n",
            "  y = column_or_1d(y, warn=True)\n"
          ]
        },
        {
          "output_type": "display_data",
          "data": {
            "text/plain": [
              "<Figure size 432x288 with 1 Axes>"
            ],
            "image/png": "[encoded data removed]"
          },
          "metadata": {
            "needs_background": "light"
          }
        },
        {
          "output_type": "stream",
          "name": "stdout",
          "text": [
            "ITERATION %d 1\n",
            "Accuracy 0.6345436036647438\n",
            "F1-score 0.6162685402839425\n",
            "              precision    recall  f1-score   support\n",
            "\n",
            "           0       0.57      0.88      0.69      1387\n",
            "           1       0.79      0.42      0.55      1560\n",
            "\n",
            "    accuracy                           0.63      2947\n",
            "   macro avg       0.68      0.65      0.62      2947\n",
            "weighted avg       0.69      0.63      0.62      2947\n",
            "\n"
          ]
        },
        {
          "output_type": "stream",
          "name": "stderr",
          "text": [
            "/usr/local/lib/python3.7/dist-packages/sklearn/utils/validation.py:993: DataConversionWarning: A column-vector y was passed when a 1d array was expected. Please change the shape of y to (n_samples, ), for example using ravel().\n",
            "  y = column_or_1d(y, warn=True)\n"
          ]
        },
        {
          "output_type": "display_data",
          "data": {
            "text/plain": [
              "<Figure size 432x288 with 1 Axes>"
            ],
            "image/png": "[encoded data removed]"
          },
          "metadata": {
            "needs_background": "light"
          }
        },
        {
          "output_type": "stream",
          "name": "stdout",
          "text": [
            "ITERATION %d 2\n",
            "Accuracy 0.7051238547675602\n",
            "F1-score 0.7052277560237552\n",
            "              precision    recall  f1-score   support\n",
            "\n",
            "           0       0.67      0.74      0.70      1387\n",
            "           1       0.75      0.67      0.71      1560\n",
            "\n",
            "    accuracy                           0.71      2947\n",
            "   macro avg       0.71      0.71      0.71      2947\n",
            "weighted avg       0.71      0.71      0.71      2947\n",
            "\n"
          ]
        },
        {
          "output_type": "stream",
          "name": "stderr",
          "text": [
            "/usr/local/lib/python3.7/dist-packages/sklearn/utils/validation.py:993: DataConversionWarning: A column-vector y was passed when a 1d array was expected. Please change the shape of y to (n_samples, ), for example using ravel().\n",
            "  y = column_or_1d(y, warn=True)\n"
          ]
        },
        {
          "output_type": "display_data",
          "data": {
            "text/plain": [
              "<Figure size 432x288 with 1 Axes>"
            ],
            "image/png": "[encoded data removed]"
          },
          "metadata": {
            "needs_background": "light"
          }
        },
        {
          "output_type": "stream",
          "name": "stdout",
          "text": [
            "ITERATION %d 3\n",
            "Accuracy 0.5212080081438751\n",
            "F1-score 0.36857250196156244\n",
            "              precision    recall  f1-score   support\n",
            "\n",
            "           0       0.23      0.01      0.01      1387\n",
            "           1       0.53      0.98      0.68      1560\n",
            "\n",
            "    accuracy                           0.52      2947\n",
            "   macro avg       0.38      0.49      0.35      2947\n",
            "weighted avg       0.39      0.52      0.37      2947\n",
            "\n"
          ]
        },
        {
          "output_type": "stream",
          "name": "stderr",
          "text": [
            "/usr/local/lib/python3.7/dist-packages/sklearn/utils/validation.py:993: DataConversionWarning: A column-vector y was passed when a 1d array was expected. Please change the shape of y to (n_samples, ), for example using ravel().\n",
            "  y = column_or_1d(y, warn=True)\n"
          ]
        },
        {
          "output_type": "display_data",
          "data": {
            "text/plain": [
              "<Figure size 432x288 with 1 Axes>"
            ],
            "image/png": "[encoded data removed]"
          },
          "metadata": {
            "needs_background": "light"
          }
        },
        {
          "output_type": "stream",
          "name": "stdout",
          "text": [
            "ITERATION %d 4\n",
            "Accuracy 0.6260604004071938\n",
            "F1-score 0.6071780125691041\n",
            "              precision    recall  f1-score   support\n",
            "\n",
            "           0       0.57      0.87      0.69      1387\n",
            "           1       0.78      0.41      0.54      1560\n",
            "\n",
            "    accuracy                           0.63      2947\n",
            "   macro avg       0.67      0.64      0.61      2947\n",
            "weighted avg       0.68      0.63      0.61      2947\n",
            "\n"
          ]
        },
        {
          "output_type": "stream",
          "name": "stderr",
          "text": [
            "/usr/local/lib/python3.7/dist-packages/sklearn/utils/validation.py:993: DataConversionWarning: A column-vector y was passed when a 1d array was expected. Please change the shape of y to (n_samples, ), for example using ravel().\n",
            "  y = column_or_1d(y, warn=True)\n"
          ]
        },
        {
          "output_type": "display_data",
          "data": {
            "text/plain": [
              "<Figure size 432x288 with 1 Axes>"
            ],
            "image/png": "[encoded data removed]"
          },
          "metadata": {
            "needs_background": "light"
          }
        },
        {
          "output_type": "stream",
          "name": "stdout",
          "text": [
            "ITERATION %d 5\n",
            "Accuracy 0.7010519172039362\n",
            "F1-score 0.7011834881474542\n",
            "              precision    recall  f1-score   support\n",
            "\n",
            "           0       0.66      0.74      0.70      1387\n",
            "           1       0.74      0.67      0.70      1560\n",
            "\n",
            "    accuracy                           0.70      2947\n",
            "   macro avg       0.70      0.70      0.70      2947\n",
            "weighted avg       0.70      0.70      0.70      2947\n",
            "\n"
          ]
        },
        {
          "output_type": "stream",
          "name": "stderr",
          "text": [
            "/usr/local/lib/python3.7/dist-packages/sklearn/utils/validation.py:993: DataConversionWarning: A column-vector y was passed when a 1d array was expected. Please change the shape of y to (n_samples, ), for example using ravel().\n",
            "  y = column_or_1d(y, warn=True)\n"
          ]
        },
        {
          "output_type": "display_data",
          "data": {
            "text/plain": [
              "<Figure size 432x288 with 1 Axes>"
            ],
            "image/png": "[encoded data removed]"
          },
          "metadata": {
            "needs_background": "light"
          }
        },
        {
          "output_type": "stream",
          "name": "stdout",
          "text": [
            "ITERATION %d 6\n",
            "Accuracy 0.6684764166949441\n",
            "F1-score 0.6628233466774922\n",
            "              precision    recall  f1-score   support\n",
            "\n",
            "           0       0.69      0.54      0.60      1387\n",
            "           1       0.66      0.78      0.71      1560\n",
            "\n",
            "    accuracy                           0.67      2947\n",
            "   macro avg       0.67      0.66      0.66      2947\n",
            "weighted avg       0.67      0.67      0.66      2947\n",
            "\n"
          ]
        },
        {
          "output_type": "stream",
          "name": "stderr",
          "text": [
            "/usr/local/lib/python3.7/dist-packages/sklearn/utils/validation.py:993: DataConversionWarning: A column-vector y was passed when a 1d array was expected. Please change the shape of y to (n_samples, ), for example using ravel().\n",
            "  y = column_or_1d(y, warn=True)\n"
          ]
        },
        {
          "output_type": "display_data",
          "data": {
            "text/plain": [
              "<Figure size 432x288 with 1 Axes>"
            ],
            "image/png": "[encoded data removed]"
          },
          "metadata": {
            "needs_background": "light"
          }
        },
        {
          "output_type": "stream",
          "name": "stdout",
          "text": [
            "ITERATION %d 7\n",
            "Accuracy 0.5693926026467594\n",
            "F1-score 0.5676873330219961\n",
            "              precision    recall  f1-score   support\n",
            "\n",
            "           0       0.54      0.65      0.59      1387\n",
            "           1       0.61      0.50      0.55      1560\n",
            "\n",
            "    accuracy                           0.57      2947\n",
            "   macro avg       0.57      0.57      0.57      2947\n",
            "weighted avg       0.58      0.57      0.57      2947\n",
            "\n"
          ]
        },
        {
          "output_type": "stream",
          "name": "stderr",
          "text": [
            "/usr/local/lib/python3.7/dist-packages/sklearn/utils/validation.py:993: DataConversionWarning: A column-vector y was passed when a 1d array was expected. Please change the shape of y to (n_samples, ), for example using ravel().\n",
            "  y = column_or_1d(y, warn=True)\n"
          ]
        },
        {
          "output_type": "display_data",
          "data": {
            "text/plain": [
              "<Figure size 432x288 with 1 Axes>"
            ],
            "image/png": "[encoded data removed]"
          },
          "metadata": {
            "needs_background": "light"
          }
        },
        {
          "output_type": "stream",
          "name": "stdout",
          "text": [
            "ITERATION %d 8\n",
            "Accuracy 0.6725483542585681\n",
            "F1-score 0.6662010446658169\n"
          ]
        },
        {
          "output_type": "stream",
          "name": "stderr",
          "text": [
            "/usr/local/lib/python3.7/dist-packages/sklearn/utils/validation.py:993: DataConversionWarning: A column-vector y was passed when a 1d array was expected. Please change the shape of y to (n_samples, ), for example using ravel().\n",
            "  y = column_or_1d(y, warn=True)\n"
          ]
        },
        {
          "output_type": "stream",
          "name": "stdout",
          "text": [
            "              precision    recall  f1-score   support\n",
            "\n",
            "           0       0.70      0.53      0.61      1387\n",
            "           1       0.66      0.80      0.72      1560\n",
            "\n",
            "    accuracy                           0.67      2947\n",
            "   macro avg       0.68      0.66      0.66      2947\n",
            "weighted avg       0.68      0.67      0.67      2947\n",
            "\n"
          ]
        },
        {
          "output_type": "display_data",
          "data": {
            "text/plain": [
              "<Figure size 432x288 with 1 Axes>"
            ],
            "image/png": "[encoded data removed]"
          },
          "metadata": {
            "needs_background": "light"
          }
        },
        {
          "output_type": "stream",
          "name": "stdout",
          "text": [
            "ITERATION %d 9\n",
            "Accuracy 0.5239226331862912\n",
            "F1-score 0.3651715842238881\n",
            "              precision    recall  f1-score   support\n",
            "\n",
            "           0       0.10      0.00      0.00      1387\n",
            "           1       0.53      0.99      0.69      1560\n",
            "\n",
            "    accuracy                           0.52      2947\n",
            "   macro avg       0.31      0.49      0.35      2947\n",
            "weighted avg       0.33      0.52      0.37      2947\n",
            "\n"
          ]
        },
        {
          "output_type": "stream",
          "name": "stderr",
          "text": [
            "/usr/local/lib/python3.7/dist-packages/sklearn/utils/validation.py:993: DataConversionWarning: A column-vector y was passed when a 1d array was expected. Please change the shape of y to (n_samples, ), for example using ravel().\n",
            "  y = column_or_1d(y, warn=True)\n"
          ]
        },
        {
          "output_type": "display_data",
          "data": {
            "text/plain": [
              "<Figure size 432x288 with 1 Axes>"
            ],
            "image/png": "[encoded data removed]"
          },
          "metadata": {
            "needs_background": "light"
          }
        },
        {
          "output_type": "stream",
          "name": "stdout",
          "text": [
            "ITERATION %d 10\n",
            "Accuracy 0.5293518832711231\n",
            "F1-score 0.36644727663765353\n",
            "              precision    recall  f1-score   support\n",
            "\n",
            "           0       0.00      0.00      0.00      1387\n",
            "           1       0.53      1.00      0.69      1560\n",
            "\n",
            "    accuracy                           0.53      2947\n",
            "   macro avg       0.26      0.50      0.35      2947\n",
            "weighted avg       0.28      0.53      0.37      2947\n",
            "\n"
          ]
        },
        {
          "output_type": "stream",
          "name": "stderr",
          "text": [
            "/usr/local/lib/python3.7/dist-packages/sklearn/utils/validation.py:993: DataConversionWarning: A column-vector y was passed when a 1d array was expected. Please change the shape of y to (n_samples, ), for example using ravel().\n",
            "  y = column_or_1d(y, warn=True)\n",
            "/usr/local/lib/python3.7/dist-packages/sklearn/metrics/_classification.py:1318: UndefinedMetricWarning: Precision and F-score are ill-defined and being set to 0.0 in labels with no predicted samples. Use `zero_division` parameter to control this behavior.\n",
            "  _warn_prf(average, modifier, msg_start, len(result))\n",
            "/usr/local/lib/python3.7/dist-packages/sklearn/metrics/_classification.py:1318: UndefinedMetricWarning: Precision and F-score are ill-defined and being set to 0.0 in labels with no predicted samples. Use `zero_division` parameter to control this behavior.\n",
            "  _warn_prf(average, modifier, msg_start, len(result))\n",
            "/usr/local/lib/python3.7/dist-packages/sklearn/metrics/_classification.py:1318: UndefinedMetricWarning: Precision and F-score are ill-defined and being set to 0.0 in labels with no predicted samples. Use `zero_division` parameter to control this behavior.\n",
            "  _warn_prf(average, modifier, msg_start, len(result))\n"
          ]
        },
        {
          "output_type": "display_data",
          "data": {
            "text/plain": [
              "<Figure size 432x288 with 1 Axes>"
            ],
            "image/png": "[encoded data removed]"
          },
          "metadata": {
            "needs_background": "light"
          }
        },
        {
          "output_type": "stream",
          "name": "stdout",
          "text": [
            "ITERATION %d 11\n",
            "Accuracy 0.5110281642348151\n",
            "F1-score 0.44371267276254667\n",
            "              precision    recall  f1-score   support\n",
            "\n",
            "           0       0.44      0.14      0.22      1387\n",
            "           1       0.52      0.84      0.64      1560\n",
            "\n",
            "    accuracy                           0.51      2947\n",
            "   macro avg       0.48      0.49      0.43      2947\n",
            "weighted avg       0.48      0.51      0.44      2947\n",
            "\n"
          ]
        },
        {
          "output_type": "stream",
          "name": "stderr",
          "text": [
            "/usr/local/lib/python3.7/dist-packages/sklearn/utils/validation.py:993: DataConversionWarning: A column-vector y was passed when a 1d array was expected. Please change the shape of y to (n_samples, ), for example using ravel().\n",
            "  y = column_or_1d(y, warn=True)\n"
          ]
        },
        {
          "output_type": "display_data",
          "data": {
            "text/plain": [
              "<Figure size 432x288 with 1 Axes>"
            ],
            "image/png": "[encoded data removed]"
          },
          "metadata": {
            "needs_background": "light"
          }
        },
        {
          "output_type": "stream",
          "name": "stdout",
          "text": [
            "ITERATION %d 12\n",
            "Accuracy 0.9375636240244316\n",
            "F1-score 0.9373869238092751\n",
            "              precision    recall  f1-score   support\n",
            "\n",
            "           0       0.96      0.90      0.93      1387\n",
            "           1       0.92      0.97      0.94      1560\n",
            "\n",
            "    accuracy                           0.94      2947\n",
            "   macro avg       0.94      0.94      0.94      2947\n",
            "weighted avg       0.94      0.94      0.94      2947\n",
            "\n"
          ]
        },
        {
          "output_type": "stream",
          "name": "stderr",
          "text": [
            "/usr/local/lib/python3.7/dist-packages/sklearn/utils/validation.py:993: DataConversionWarning: A column-vector y was passed when a 1d array was expected. Please change the shape of y to (n_samples, ), for example using ravel().\n",
            "  y = column_or_1d(y, warn=True)\n"
          ]
        },
        {
          "output_type": "display_data",
          "data": {
            "text/plain": [
              "<Figure size 432x288 with 1 Axes>"
            ],
            "image/png": "[encoded data removed]"
          },
          "metadata": {
            "needs_background": "light"
          }
        },
        {
          "output_type": "stream",
          "name": "stdout",
          "text": [
            "ITERATION %d 13\n",
            "Accuracy 0.9558873430607397\n",
            "F1-score 0.9558632203864385\n",
            "              precision    recall  f1-score   support\n",
            "\n",
            "           0       0.96      0.94      0.95      1387\n",
            "           1       0.95      0.97      0.96      1560\n",
            "\n",
            "    accuracy                           0.96      2947\n",
            "   macro avg       0.96      0.96      0.96      2947\n",
            "weighted avg       0.96      0.96      0.96      2947\n",
            "\n"
          ]
        },
        {
          "output_type": "stream",
          "name": "stderr",
          "text": [
            "/usr/local/lib/python3.7/dist-packages/sklearn/utils/validation.py:993: DataConversionWarning: A column-vector y was passed when a 1d array was expected. Please change the shape of y to (n_samples, ), for example using ravel().\n",
            "  y = column_or_1d(y, warn=True)\n"
          ]
        },
        {
          "output_type": "display_data",
          "data": {
            "text/plain": [
              "<Figure size 432x288 with 1 Axes>"
            ],
            "image/png": "[encoded data removed]"
          },
          "metadata": {
            "needs_background": "light"
          }
        },
        {
          "output_type": "stream",
          "name": "stdout",
          "text": [
            "ITERATION %d 14\n",
            "Accuracy 0.6250424160162877\n",
            "F1-score 0.6246165491033769\n",
            "              precision    recall  f1-score   support\n",
            "\n",
            "           0       0.61      0.59      0.60      1387\n",
            "           1       0.64      0.66      0.65      1560\n",
            "\n",
            "    accuracy                           0.63      2947\n",
            "   macro avg       0.62      0.62      0.62      2947\n",
            "weighted avg       0.62      0.63      0.62      2947\n",
            "\n"
          ]
        },
        {
          "output_type": "stream",
          "name": "stderr",
          "text": [
            "/usr/local/lib/python3.7/dist-packages/sklearn/utils/validation.py:993: DataConversionWarning: A column-vector y was passed when a 1d array was expected. Please change the shape of y to (n_samples, ), for example using ravel().\n",
            "  y = column_or_1d(y, warn=True)\n"
          ]
        },
        {
          "output_type": "display_data",
          "data": {
            "text/plain": [
              "<Figure size 432x288 with 1 Axes>"
            ],
            "image/png": "[encoded data removed]"
          },
          "metadata": {
            "needs_background": "light"
          }
        },
        {
          "output_type": "stream",
          "name": "stdout",
          "text": [
            "ITERATION %d 15\n",
            "Accuracy 0.6888361045130641\n",
            "F1-score 0.6855680534597943\n",
            "              precision    recall  f1-score   support\n",
            "\n",
            "           0       0.70      0.59      0.64      1387\n",
            "           1       0.68      0.78      0.73      1560\n",
            "\n",
            "    accuracy                           0.69      2947\n",
            "   macro avg       0.69      0.68      0.68      2947\n",
            "weighted avg       0.69      0.69      0.69      2947\n",
            "\n"
          ]
        },
        {
          "output_type": "stream",
          "name": "stderr",
          "text": [
            "/usr/local/lib/python3.7/dist-packages/sklearn/utils/validation.py:993: DataConversionWarning: A column-vector y was passed when a 1d array was expected. Please change the shape of y to (n_samples, ), for example using ravel().\n",
            "  y = column_or_1d(y, warn=True)\n"
          ]
        },
        {
          "output_type": "display_data",
          "data": {
            "text/plain": [
              "<Figure size 432x288 with 1 Axes>"
            ],
            "image/png": "[encoded data removed]"
          },
          "metadata": {
            "needs_background": "light"
          }
        },
        {
          "output_type": "stream",
          "name": "stdout",
          "text": [
            "ITERATION %d 16\n",
            "Accuracy 0.9837122497455039\n",
            "F1-score 0.9836971350662778\n",
            "              precision    recall  f1-score   support\n",
            "\n",
            "           0       1.00      0.97      0.98      1387\n",
            "           1       0.97      1.00      0.98      1560\n",
            "\n",
            "    accuracy                           0.98      2947\n",
            "   macro avg       0.98      0.98      0.98      2947\n",
            "weighted avg       0.98      0.98      0.98      2947\n",
            "\n"
          ]
        },
        {
          "output_type": "stream",
          "name": "stderr",
          "text": [
            "/usr/local/lib/python3.7/dist-packages/sklearn/utils/validation.py:993: DataConversionWarning: A column-vector y was passed when a 1d array was expected. Please change the shape of y to (n_samples, ), for example using ravel().\n",
            "  y = column_or_1d(y, warn=True)\n"
          ]
        },
        {
          "output_type": "display_data",
          "data": {
            "text/plain": [
              "<Figure size 432x288 with 1 Axes>"
            ],
            "image/png": "[encoded data removed]"
          },
          "metadata": {
            "needs_background": "light"
          }
        },
        {
          "output_type": "stream",
          "name": "stdout",
          "text": [
            "ITERATION %d 17\n",
            "Accuracy 0.991856124872752\n",
            "F1-score 0.991851671455958\n",
            "              precision    recall  f1-score   support\n",
            "\n",
            "           0       1.00      0.98      0.99      1387\n",
            "           1       0.98      1.00      0.99      1560\n",
            "\n",
            "    accuracy                           0.99      2947\n",
            "   macro avg       0.99      0.99      0.99      2947\n",
            "weighted avg       0.99      0.99      0.99      2947\n",
            "\n"
          ]
        },
        {
          "output_type": "stream",
          "name": "stderr",
          "text": [
            "/usr/local/lib/python3.7/dist-packages/sklearn/utils/validation.py:993: DataConversionWarning: A column-vector y was passed when a 1d array was expected. Please change the shape of y to (n_samples, ), for example using ravel().\n",
            "  y = column_or_1d(y, warn=True)\n"
          ]
        },
        {
          "output_type": "display_data",
          "data": {
            "text/plain": [
              "<Figure size 432x288 with 1 Axes>"
            ],
            "image/png": "[encoded data removed]"
          },
          "metadata": {
            "needs_background": "light"
          }
        },
        {
          "output_type": "stream",
          "name": "stdout",
          "text": [
            "ITERATION %d 18\n",
            "Accuracy 0.5293518832711231\n",
            "F1-score 0.36644727663765353\n",
            "              precision    recall  f1-score   support\n",
            "\n",
            "           0       0.00      0.00      0.00      1387\n",
            "           1       0.53      1.00      0.69      1560\n",
            "\n",
            "    accuracy                           0.53      2947\n",
            "   macro avg       0.26      0.50      0.35      2947\n",
            "weighted avg       0.28      0.53      0.37      2947\n",
            "\n"
          ]
        },
        {
          "output_type": "stream",
          "name": "stderr",
          "text": [
            "/usr/local/lib/python3.7/dist-packages/sklearn/utils/validation.py:993: DataConversionWarning: A column-vector y was passed when a 1d array was expected. Please change the shape of y to (n_samples, ), for example using ravel().\n",
            "  y = column_or_1d(y, warn=True)\n",
            "/usr/local/lib/python3.7/dist-packages/sklearn/metrics/_classification.py:1318: UndefinedMetricWarning: Precision and F-score are ill-defined and being set to 0.0 in labels with no predicted samples. Use `zero_division` parameter to control this behavior.\n",
            "  _warn_prf(average, modifier, msg_start, len(result))\n",
            "/usr/local/lib/python3.7/dist-packages/sklearn/metrics/_classification.py:1318: UndefinedMetricWarning: Precision and F-score are ill-defined and being set to 0.0 in labels with no predicted samples. Use `zero_division` parameter to control this behavior.\n",
            "  _warn_prf(average, modifier, msg_start, len(result))\n",
            "/usr/local/lib/python3.7/dist-packages/sklearn/metrics/_classification.py:1318: UndefinedMetricWarning: Precision and F-score are ill-defined and being set to 0.0 in labels with no predicted samples. Use `zero_division` parameter to control this behavior.\n",
            "  _warn_prf(average, modifier, msg_start, len(result))\n"
          ]
        },
        {
          "output_type": "display_data",
          "data": {
            "text/plain": [
              "<Figure size 432x288 with 1 Axes>"
            ],
            "image/png": "[encoded data removed]"
          },
          "metadata": {
            "needs_background": "light"
          }
        },
        {
          "output_type": "stream",
          "name": "stdout",
          "text": [
            "ITERATION %d 19\n",
            "Accuracy 0.6745843230403801\n",
            "F1-score 0.664980770966969\n",
            "              precision    recall  f1-score   support\n",
            "\n",
            "           0       0.72      0.50      0.59      1387\n",
            "           1       0.65      0.83      0.73      1560\n",
            "\n",
            "    accuracy                           0.67      2947\n",
            "   macro avg       0.69      0.67      0.66      2947\n",
            "weighted avg       0.68      0.67      0.66      2947\n",
            "\n"
          ]
        },
        {
          "output_type": "stream",
          "name": "stderr",
          "text": [
            "/usr/local/lib/python3.7/dist-packages/sklearn/utils/validation.py:993: DataConversionWarning: A column-vector y was passed when a 1d array was expected. Please change the shape of y to (n_samples, ), for example using ravel().\n",
            "  y = column_or_1d(y, warn=True)\n"
          ]
        },
        {
          "output_type": "display_data",
          "data": {
            "text/plain": [
              "<Figure size 432x288 with 1 Axes>"
            ],
            "image/png": "[encoded data removed]"
          },
          "metadata": {
            "needs_background": "light"
          }
        },
        {
          "output_type": "stream",
          "name": "stdout",
          "text": [
            "ITERATION %d 20\n",
            "Accuracy 0.9755683746182559\n",
            "F1-score 0.9755683746182559\n",
            "              precision    recall  f1-score   support\n",
            "\n",
            "           0       0.97      0.97      0.97      1387\n",
            "           1       0.98      0.98      0.98      1560\n",
            "\n",
            "    accuracy                           0.98      2947\n",
            "   macro avg       0.98      0.98      0.98      2947\n",
            "weighted avg       0.98      0.98      0.98      2947\n",
            "\n"
          ]
        },
        {
          "output_type": "stream",
          "name": "stderr",
          "text": [
            "/usr/local/lib/python3.7/dist-packages/sklearn/utils/validation.py:993: DataConversionWarning: A column-vector y was passed when a 1d array was expected. Please change the shape of y to (n_samples, ), for example using ravel().\n",
            "  y = column_or_1d(y, warn=True)\n"
          ]
        },
        {
          "output_type": "display_data",
          "data": {
            "text/plain": [
              "<Figure size 432x288 with 1 Axes>"
            ],
            "image/png": "[encoded data removed]"
          },
          "metadata": {
            "needs_background": "light"
          }
        },
        {
          "output_type": "stream",
          "name": "stdout",
          "text": [
            "ITERATION %d 21\n",
            "Accuracy 0.9674244994910078\n",
            "F1-score 0.9673923743458206\n",
            "              precision    recall  f1-score   support\n",
            "\n",
            "           0       0.98      0.95      0.96      1387\n",
            "           1       0.96      0.98      0.97      1560\n",
            "\n",
            "    accuracy                           0.97      2947\n",
            "   macro avg       0.97      0.97      0.97      2947\n",
            "weighted avg       0.97      0.97      0.97      2947\n",
            "\n"
          ]
        },
        {
          "output_type": "stream",
          "name": "stderr",
          "text": [
            "/usr/local/lib/python3.7/dist-packages/sklearn/utils/validation.py:993: DataConversionWarning: A column-vector y was passed when a 1d array was expected. Please change the shape of y to (n_samples, ), for example using ravel().\n",
            "  y = column_or_1d(y, warn=True)\n"
          ]
        },
        {
          "output_type": "display_data",
          "data": {
            "text/plain": [
              "<Figure size 432x288 with 1 Axes>"
            ],
            "image/png": "[encoded data removed]"
          },
          "metadata": {
            "needs_background": "light"
          }
        },
        {
          "output_type": "stream",
          "name": "stdout",
          "text": [
            "ITERATION %d 22\n",
            "Accuracy 0.7074991516796743\n",
            "F1-score 0.7075692066001439\n",
            "              precision    recall  f1-score   support\n",
            "\n",
            "           0       0.67      0.75      0.71      1387\n",
            "           1       0.75      0.67      0.71      1560\n",
            "\n",
            "    accuracy                           0.71      2947\n",
            "   macro avg       0.71      0.71      0.71      2947\n",
            "weighted avg       0.71      0.71      0.71      2947\n",
            "\n"
          ]
        },
        {
          "output_type": "stream",
          "name": "stderr",
          "text": [
            "/usr/local/lib/python3.7/dist-packages/sklearn/utils/validation.py:993: DataConversionWarning: A column-vector y was passed when a 1d array was expected. Please change the shape of y to (n_samples, ), for example using ravel().\n",
            "  y = column_or_1d(y, warn=True)\n"
          ]
        },
        {
          "output_type": "display_data",
          "data": {
            "text/plain": [
              "<Figure size 432x288 with 1 Axes>"
            ],
            "image/png": "[encoded data removed]"
          },
          "metadata": {
            "needs_background": "light"
          }
        }
      ]
    },
    {
      "cell_type": "markdown",
      "source": [
        "Stampami: numero variabile, accuracy e f1 score"
      ],
      "metadata": {
        "id": "pVPJmBxndMzx"
      }
    },
    {
      "cell_type": "code",
      "source": [
        "np.round(score_array,2)"
      ],
      "metadata": {
        "colab": {
          "base_uri": "https://localhost:8080/"
        },
        "id": "M1lEbDfvVa8Z",
        "outputId": "417055e1-2aa8-45d6-e4a0-a6a4cf230991"
      },
      "execution_count": null,
      "outputs": [
        {
          "output_type": "execute_result",
          "data": {
            "text/plain": [
              "array([[ 0.  ,  0.66,  0.65],\n",
              "       [ 1.  ,  0.63,  0.62],\n",
              "       [ 2.  ,  0.71,  0.71],\n",
              "       [ 3.  ,  0.52,  0.37],\n",
              "       [ 4.  ,  0.63,  0.61],\n",
              "       [ 5.  ,  0.7 ,  0.7 ],\n",
              "       [ 6.  ,  0.67,  0.66],\n",
              "       [ 7.  ,  0.57,  0.57],\n",
              "       [ 8.  ,  0.67,  0.67],\n",
              "       [ 9.  ,  0.52,  0.37],\n",
              "       [10.  ,  0.53,  0.37],\n",
              "       [11.  ,  0.51,  0.44],\n",
              "       [12.  ,  0.94,  0.94],\n",
              "       [13.  ,  0.96,  0.96],\n",
              "       [14.  ,  0.63,  0.62],\n",
              "       [15.  ,  0.69,  0.69],\n",
              "       [16.  ,  0.98,  0.98],\n",
              "       [17.  ,  0.99,  0.99],\n",
              "       [18.  ,  0.53,  0.37],\n",
              "       [19.  ,  0.67,  0.66],\n",
              "       [20.  ,  0.98,  0.98],\n",
              "       [21.  ,  0.97,  0.97],\n",
              "       [22.  ,  0.71,  0.71]])"
            ]
          },
          "metadata": {},
          "execution_count": 11
        }
      ]
    },
    {
      "cell_type": "markdown",
      "source": [
        "Altro approccio: guarda le variabili a due a due (tipo classi 1 e 2, poi 1 e 3, etc...)."
      ],
      "metadata": {
        "id": "RVfNWHiCdX92"
      }
    },
    {
      "cell_type": "code",
      "source": [
        "from numpy.lib.function_base import kaiser\n",
        "y_train_couple=[]\n",
        "\n",
        "X_train_couple=[]\n",
        "list_names=[]\n",
        "\n",
        "for j in range(1,5):\n",
        "  for k in range(j+1,6):\n",
        "    y_dummy=[]\n",
        "    X_dummy=[]\n",
        "    list_names.append([j,k])\n",
        "    for i in range(0,len(y_train)):\n",
        "      clas=y_train[i][0]\n",
        "      if clas==j or clas==k:\n",
        "        y_dummy.append(clas)\n",
        "        X_dummy.append((X_train[i]))\n",
        "\n",
        "    y_train_couple.append(y_dummy)\n",
        "    X_train_couple.append(X_dummy)"
      ],
      "metadata": {
        "id": "j9fTMw-aEGY2"
      },
      "execution_count": 16,
      "outputs": []
    },
    {
      "cell_type": "code",
      "source": [
        "list_names"
      ],
      "metadata": {
        "colab": {
          "base_uri": "https://localhost:8080/"
        },
        "id": "m2vNew7IiUFI",
        "outputId": "5f12efec-f7ae-493e-824d-724c2ffb5392"
      },
      "execution_count": 73,
      "outputs": [
        {
          "output_type": "execute_result",
          "data": {
            "text/plain": [
              "[[1, 2],\n",
              " [1, 3],\n",
              " [1, 4],\n",
              " [1, 5],\n",
              " [2, 3],\n",
              " [2, 4],\n",
              " [2, 5],\n",
              " [3, 4],\n",
              " [3, 5],\n",
              " [4, 5]]"
            ]
          },
          "metadata": {},
          "execution_count": 73
        }
      ]
    },
    {
      "cell_type": "code",
      "source": [
        "y_test_couple=[]\n",
        "\n",
        "X_test_couple=[]\n",
        "\n",
        "\n",
        "for j in range(1,5):\n",
        "  for k in range(j+1,6):\n",
        "    y_dummy=[]\n",
        "    X_dummy=[]\n",
        "    for i in range(0,len(y_test)):\n",
        "      clas=y_test[i][0]\n",
        "      if clas==j or clas==k:\n",
        "        y_dummy.append(clas)\n",
        "        X_dummy.append(list(X_test[i]))\n",
        "\n",
        "    y_test_couple.append(y_dummy)\n",
        "    X_test_couple.append(X_dummy)"
      ],
      "metadata": {
        "id": "8naRp0mcepBo"
      },
      "execution_count": 17,
      "outputs": []
    },
    {
      "cell_type": "code",
      "source": [
        "len(X_train_couple)"
      ],
      "metadata": {
        "colab": {
          "base_uri": "https://localhost:8080/"
        },
        "id": "vEoMw-91zyRI",
        "outputId": "55eef7ce-6793-48b1-8689-d7fa0179cb3f"
      },
      "execution_count": 76,
      "outputs": [
        {
          "output_type": "execute_result",
          "data": {
            "text/plain": [
              "10"
            ]
          },
          "metadata": {},
          "execution_count": 76
        }
      ]
    },
    {
      "cell_type": "code",
      "source": [
        "names_couple=['1-2','1-3','1-4','1-5','2-3','2-4','2-5','3-4','3-5','4-5']"
      ],
      "metadata": {
        "id": "Bt04ol7i6-0s"
      },
      "execution_count": 18,
      "outputs": []
    },
    {
      "cell_type": "markdown",
      "source": [
        "e qua riperformo la multi che ho fatt osopra. tanto ho capito che quell'altra è inutile."
      ],
      "metadata": {
        "id": "-ioVb0RngNTu"
      }
    },
    {
      "cell_type": "code",
      "source": [
        "from sklearn.metrics import roc_curve, auc, roc_auc_score"
      ],
      "metadata": {
        "id": "hsf9eSqP8bSd"
      },
      "execution_count": 19,
      "outputs": []
    },
    {
      "cell_type": "code",
      "source": [
        "fig1 = plt.figure(figsize = (6, 4))\n",
        "fig2 = plt.figure(figsize = (6, 4))\n",
        "\n",
        "\n",
        "ax1 = fig1.add_subplot()\n",
        "\n",
        "ax2 = fig2.add_subplot()\n",
        "\n",
        "for (x_tr,y_tr,x_te,y_te,ele,i) in zip(X_train_couple,y_train_couple,X_test_couple,y_test_couple,list_names,names_couple):\n",
        "  clf = LogisticRegression(random_state=0,multi_class='auto')\n",
        "  clf.fit(x_tr, y_tr)\n",
        "  y_pred = clf.predict(x_te)\n",
        "  print('Classification for variables ',i)\n",
        "  print('Accuracy %s' % accuracy_score(y_te, y_pred))\n",
        "  print('F1-score %s' % f1_score(y_te, y_pred, average='weighted'))\n",
        "  print(classification_report(y_te, y_pred))\n",
        "\n",
        "  y_score = clf.predict_proba(x_te)\n",
        "  y_te_dummy=[]\n",
        "  for ite in y_te: \n",
        "    if(ite==ele[0]):\n",
        "      ite=0\n",
        "    if(ite==ele[1]):\n",
        "      ite=1\n",
        "    y_te_dummy.append(ite)\n",
        "  fpr_el, tpr_el, th = roc_curve(y_te_dummy, y_score[:,1])\n",
        "\n",
        "  roc_auc_el = auc(fpr_el, tpr_el)\n",
        "\n",
        "  if(X_train_couple.index(x_tr)<5):\n",
        "    ax1.plot(fpr_el, tpr_el, label='$AUC$ %s = %.3f' % (i,roc_auc_el))\n",
        "  if(X_train_couple.index(x_tr)>4):\n",
        "    ax2.plot(fpr_el, tpr_el, label='$AUC$ %s = %.3f' % (i,roc_auc_el))\n",
        "\n",
        "ax1.legend(loc=\"lower right\", fontsize=8, frameon=False)\n",
        "ax1.plot([0,1], [0,1], 'k--')\n",
        "ax1.set_xlabel('False Positive Rate', fontsize=20)\n",
        "ax1.set_ylabel('True Positive Rate', fontsize=20)\n",
        "ax1.legend(fontsize = 'small')\n",
        "ax1.legend(loc=\"lower right\", fontsize=8, frameon=False)\n",
        "ax2.plot([0,1], [0,1], 'k--')\n",
        "ax2.set_xlabel('False Positive Rate', fontsize=20)\n",
        "ax2.set_ylabel('True Positive Rate', fontsize=20)\n",
        "ax2.legend(fontsize = 'small')\n",
        "\n",
        "ax1.figure.savefig('log_roc_1.pdf', bbox_inches = 'tight')\n",
        "ax2.figure.savefig('log_roc_2.pdf', bbox_inches = 'tight')\n",
        "\n",
        "\n",
        "#plt.tick_params(axis='both', which='major', labelsize=22)\n",
        "plt.show()"
      ],
      "metadata": {
        "colab": {
          "base_uri": "https://localhost:8080/",
          "height": 1000
        },
        "id": "3LT6OtZdzXtX",
        "outputId": "14d2f9d0-510c-434a-f262-4e59464027ac"
      },
      "execution_count": 21,
      "outputs": [
        {
          "output_type": "stream",
          "name": "stdout",
          "text": [
            "Classification for variables  1-2\n",
            "Accuracy 0.9317476732161324\n",
            "F1-score 0.9313725246312129\n",
            "              precision    recall  f1-score   support\n",
            "\n",
            "         1.0       0.89      0.99      0.94       496\n",
            "         2.0       0.99      0.87      0.93       471\n",
            "\n",
            "    accuracy                           0.93       967\n",
            "   macro avg       0.94      0.93      0.93       967\n",
            "weighted avg       0.94      0.93      0.93       967\n",
            "\n",
            "Classification for variables  1-3\n",
            "Accuracy 0.9748908296943232\n",
            "F1-score 0.9748362268512948\n",
            "              precision    recall  f1-score   support\n",
            "\n",
            "         1.0       0.96      1.00      0.98       496\n",
            "         3.0       1.00      0.95      0.97       420\n",
            "\n",
            "    accuracy                           0.97       916\n",
            "   macro avg       0.98      0.97      0.97       916\n",
            "weighted avg       0.98      0.97      0.97       916\n",
            "\n",
            "Classification for variables  1-4\n",
            "Accuracy 0.9959473150962512\n",
            "F1-score 0.9959471653185551\n",
            "              precision    recall  f1-score   support\n",
            "\n",
            "         1.0       0.99      1.00      1.00       496\n",
            "         4.0       1.00      0.99      1.00       491\n",
            "\n",
            "    accuracy                           1.00       987\n",
            "   macro avg       1.00      1.00      1.00       987\n",
            "weighted avg       1.00      1.00      1.00       987\n",
            "\n",
            "Classification for variables  1-5\n",
            "Accuracy 1.0\n",
            "F1-score 1.0\n",
            "              precision    recall  f1-score   support\n",
            "\n",
            "         1.0       1.00      1.00      1.00       496\n",
            "         5.0       1.00      1.00      1.00       532\n",
            "\n",
            "    accuracy                           1.00      1028\n",
            "   macro avg       1.00      1.00      1.00      1028\n",
            "weighted avg       1.00      1.00      1.00      1028\n",
            "\n",
            "Classification for variables  2-3\n",
            "Accuracy 0.9315375982042648\n",
            "F1-score 0.931372545878227\n",
            "              precision    recall  f1-score   support\n",
            "\n",
            "         2.0       0.91      0.96      0.94       471\n",
            "         3.0       0.95      0.90      0.93       420\n",
            "\n",
            "    accuracy                           0.93       891\n",
            "   macro avg       0.93      0.93      0.93       891\n",
            "weighted avg       0.93      0.93      0.93       891\n",
            "\n",
            "Classification for variables  2-4\n",
            "Accuracy 0.9885654885654885\n",
            "F1-score 0.9885664154685867\n",
            "              precision    recall  f1-score   support\n",
            "\n",
            "         2.0       0.98      0.99      0.99       471\n",
            "         4.0       0.99      0.98      0.99       491\n",
            "\n",
            "    accuracy                           0.99       962\n",
            "   macro avg       0.99      0.99      0.99       962\n",
            "weighted avg       0.99      0.99      0.99       962\n",
            "\n",
            "Classification for variables  2-5\n",
            "Accuracy 0.9970089730807578\n",
            "F1-score 0.9970083999000839\n",
            "              precision    recall  f1-score   support\n",
            "\n",
            "         2.0       1.00      0.99      1.00       471\n",
            "         5.0       0.99      1.00      1.00       532\n",
            "\n",
            "    accuracy                           1.00      1003\n",
            "   macro avg       1.00      1.00      1.00      1003\n",
            "weighted avg       1.00      1.00      1.00      1003\n",
            "\n",
            "Classification for variables  3-4\n",
            "Accuracy 1.0\n",
            "F1-score 1.0\n",
            "              precision    recall  f1-score   support\n",
            "\n",
            "         3.0       1.00      1.00      1.00       420\n",
            "         4.0       1.00      1.00      1.00       491\n",
            "\n",
            "    accuracy                           1.00       911\n",
            "   macro avg       1.00      1.00      1.00       911\n",
            "weighted avg       1.00      1.00      1.00       911\n",
            "\n",
            "Classification for variables  3-5\n",
            "Accuracy 1.0\n",
            "F1-score 1.0\n",
            "              precision    recall  f1-score   support\n",
            "\n",
            "         3.0       1.00      1.00      1.00       420\n",
            "         5.0       1.00      1.00      1.00       532\n",
            "\n",
            "    accuracy                           1.00       952\n",
            "   macro avg       1.00      1.00      1.00       952\n",
            "weighted avg       1.00      1.00      1.00       952\n",
            "\n",
            "Classification for variables  4-5\n",
            "Accuracy 0.8172043010752689\n",
            "F1-score 0.8161638143897483\n",
            "              precision    recall  f1-score   support\n",
            "\n",
            "         4.0       0.85      0.75      0.80       491\n",
            "         5.0       0.79      0.88      0.83       532\n",
            "\n",
            "    accuracy                           0.82      1023\n",
            "   macro avg       0.82      0.81      0.82      1023\n",
            "weighted avg       0.82      0.82      0.82      1023\n",
            "\n"
          ]
        },
        {
          "output_type": "display_data",
          "data": {
            "text/plain": [
              "<Figure size 432x288 with 1 Axes>"
            ],
            "image/png": "[encoded data removed]"
          },
          "metadata": {
            "needs_background": "light"
          }
        },
        {
          "output_type": "display_data",
          "data": {
            "text/plain": [
              "<Figure size 432x288 with 1 Axes>"
            ],
            "image/png": "[encoded data removed]"
          },
          "metadata": {
            "needs_background": "light"
          }
        }
      ]
    },
    {
      "cell_type": "markdown",
      "source": [
        "se si analizzano a mano le cose si impazzisce. disegno la roc e via."
      ],
      "metadata": {
        "id": "s-vWGoN4gUtX"
      }
    },
    {
      "cell_type": "code",
      "source": [
        "master_score_array=[]\n",
        "for (x_tr,y_tr,x_te,y_te,j,ele) in zip(X_train_couple,y_train_couple,X_test_couple,y_test_couple,range(0,15),list_names):\n",
        "  score_array=[]\n",
        "  for i in range(0,23):\n",
        "    clf = LogisticRegression(random_state=0)\n",
        "    clf.fit(np.array(x_tr).T[i].reshape(-1,1), y_tr)\n",
        "    y_pred = clf.predict(np.array(x_te).T[i].reshape(-1,1))\n",
        "\n",
        "    #print('Accuracy %s' % accuracy_score(y_test_bi, y_pred))\n",
        "    #print('F1-score %s' % f1_score(y_test_bi, y_pred, average='weighted'))\n",
        "    #print(classification_report(y_test_bi, y_pred))\n",
        "\n",
        "    score_array.append([i,np.round(accuracy_score(y_te, y_pred),2),np.round(f1_score(y_te, y_pred, average='weighted'),2)])\n",
        "\n",
        "    #loss = expit(sorted(X_test.T[i].reshape(-1,1)) * clf.coef_ + clf.intercept_).ravel()\n",
        "    #plt.plot(sorted(X_test.T[i].reshape(-1,1)), loss, color='red', linewidth=3)\n",
        "    #plt.scatter(X_train.T[i].reshape(-1,1), y_train_bi)\n",
        "    #plt.xlabel(selected_columns[0], fontsize=16)\n",
        "    #plt.ylabel('Occupancy', fontsize=16)\n",
        "    #plt.tick_params(axis='both', which='major', labelsize=16)\n",
        "    #plt.show()\n",
        "  master_score_array.append(ele)\n",
        "  master_score_array.append(score_array)"
      ],
      "metadata": {
        "id": "fREd4llxd3Cn"
      },
      "execution_count": null,
      "outputs": []
    },
    {
      "cell_type": "code",
      "source": [
        "master_score_array"
      ],
      "metadata": {
        "id": "wJIX_sKn_CIC",
        "outputId": "60000ac9-6ec3-4314-b094-78bf8ce4c16f",
        "colab": {
          "base_uri": "https://localhost:8080/"
        }
      },
      "execution_count": null,
      "outputs": [
        {
          "output_type": "execute_result",
          "data": {
            "text/plain": [
              "[[1, 2],\n",
              " [[0, 0.64, 0.63],\n",
              "  [1, 0.69, 0.67],\n",
              "  [2, 0.59, 0.59],\n",
              "  [3, 0.51, 0.35],\n",
              "  [4, 0.71, 0.69],\n",
              "  [5, 0.63, 0.63],\n",
              "  [6, 0.65, 0.63],\n",
              "  [7, 0.63, 0.63],\n",
              "  [8, 0.83, 0.83],\n",
              "  [9, 0.86, 0.86],\n",
              "  [10, 0.81, 0.8],\n",
              "  [11, 0.75, 0.75],\n",
              "  [12, 0.61, 0.57],\n",
              "  [13, 0.49, 0.48],\n",
              "  [14, 0.51, 0.47],\n",
              "  [15, 0.8, 0.8],\n",
              "  [16, 0.62, 0.59],\n",
              "  [17, 0.65, 0.65],\n",
              "  [18, 0.76, 0.75],\n",
              "  [19, 0.86, 0.85],\n",
              "  [20, 0.67, 0.66],\n",
              "  [21, 0.54, 0.52],\n",
              "  [22, 0.61, 0.61]],\n",
              " [1, 3],\n",
              " [[0, 0.82, 0.82],\n",
              "  [1, 0.55, 0.39],\n",
              "  [2, 0.51, 0.5],\n",
              "  [3, 0.47, 0.37],\n",
              "  [4, 0.58, 0.46],\n",
              "  [5, 0.52, 0.47],\n",
              "  [6, 0.54, 0.38],\n",
              "  [7, 0.57, 0.43],\n",
              "  [8, 0.83, 0.83],\n",
              "  [9, 0.66, 0.66],\n",
              "  [10, 0.54, 0.38],\n",
              "  [11, 0.54, 0.38],\n",
              "  [12, 0.61, 0.57],\n",
              "  [13, 0.7, 0.69],\n",
              "  [14, 0.6, 0.59],\n",
              "  [15, 0.8, 0.8],\n",
              "  [16, 0.87, 0.86],\n",
              "  [17, 0.62, 0.61],\n",
              "  [18, 0.54, 0.38],\n",
              "  [19, 0.54, 0.47],\n",
              "  [20, 0.89, 0.89],\n",
              "  [21, 0.86, 0.86],\n",
              "  [22, 0.52, 0.48]],\n",
              " [1, 4],\n",
              " [[0, 0.52, 0.52],\n",
              "  [1, 0.56, 0.55],\n",
              "  [2, 0.81, 0.81],\n",
              "  [3, 0.57, 0.53],\n",
              "  [4, 0.54, 0.53],\n",
              "  [5, 0.81, 0.81],\n",
              "  [6, 0.68, 0.68],\n",
              "  [7, 0.44, 0.43],\n",
              "  [8, 0.6, 0.59],\n",
              "  [9, 0.67, 0.66],\n",
              "  [10, 0.6, 0.6],\n",
              "  [11, 0.49, 0.49],\n",
              "  [12, 0.98, 0.98],\n",
              "  [13, 0.98, 0.98],\n",
              "  [14, 0.69, 0.69],\n",
              "  [15, 0.58, 0.58],\n",
              "  [16, 0.99, 0.99],\n",
              "  [17, 1.0, 1.0],\n",
              "  [18, 0.49, 0.38],\n",
              "  [19, 0.83, 0.83],\n",
              "  [20, 0.98, 0.98],\n",
              "  [21, 0.96, 0.96],\n",
              "  [22, 0.81, 0.81]],\n",
              " [1, 5],\n",
              " [[0, 0.7, 0.7],\n",
              "  [1, 0.49, 0.38],\n",
              "  [2, 0.57, 0.54],\n",
              "  [3, 0.52, 0.35],\n",
              "  [4, 0.55, 0.5],\n",
              "  [5, 0.58, 0.57],\n",
              "  [6, 0.58, 0.55],\n",
              "  [7, 0.53, 0.47],\n",
              "  [8, 0.64, 0.64],\n",
              "  [9, 0.73, 0.73],\n",
              "  [10, 0.62, 0.62],\n",
              "  [11, 0.51, 0.5],\n",
              "  [12, 0.94, 0.94],\n",
              "  [13, 0.95, 0.95],\n",
              "  [14, 0.71, 0.71],\n",
              "  [15, 0.5, 0.49],\n",
              "  [16, 0.98, 0.98],\n",
              "  [17, 0.99, 0.99],\n",
              "  [18, 0.53, 0.46],\n",
              "  [19, 0.82, 0.82],\n",
              "  [20, 0.99, 0.99],\n",
              "  [21, 0.98, 0.98],\n",
              "  [22, 0.56, 0.54]],\n",
              " [1, 6],\n",
              " [[0, 0.58, 0.58],\n",
              "  [1, 1.0, 1.0],\n",
              "  [2, 0.95, 0.95],\n",
              "  [3, 0.87, 0.87],\n",
              "  [4, 1.0, 1.0],\n",
              "  [5, 0.95, 0.95],\n",
              "  [6, 0.94, 0.94],\n",
              "  [7, 0.95, 0.95],\n",
              "  [8, 0.55, 0.55],\n",
              "  [9, 0.4, 0.39],\n",
              "  [10, 0.41, 0.38],\n",
              "  [11, 0.49, 0.36],\n",
              "  [12, 0.96, 0.96],\n",
              "  [13, 0.98, 0.98],\n",
              "  [14, 0.53, 0.53],\n",
              "  [15, 0.61, 0.61],\n",
              "  [16, 0.98, 0.98],\n",
              "  [17, 0.99, 0.99],\n",
              "  [18, 0.52, 0.45],\n",
              "  [19, 0.66, 0.66],\n",
              "  [20, 0.98, 0.98],\n",
              "  [21, 0.96, 0.96],\n",
              "  [22, 0.95, 0.95]],\n",
              " [2, 3],\n",
              " [[0, 0.72, 0.72],\n",
              "  [1, 0.68, 0.67],\n",
              "  [2, 0.7, 0.7],\n",
              "  [3, 0.47, 0.3],\n",
              "  [4, 0.66, 0.66],\n",
              "  [5, 0.73, 0.72],\n",
              "  [6, 0.54, 0.54],\n",
              "  [7, 0.72, 0.72],\n",
              "  [8, 0.52, 0.52],\n",
              "  [9, 0.76, 0.76],\n",
              "  [10, 0.78, 0.78],\n",
              "  [11, 0.75, 0.75],\n",
              "  [12, 0.53, 0.37],\n",
              "  [13, 0.68, 0.68],\n",
              "  [14, 0.62, 0.62],\n",
              "  [15, 0.53, 0.52],\n",
              "  [16, 0.79, 0.79],\n",
              "  [17, 0.73, 0.72],\n",
              "  [18, 0.57, 0.49],\n",
              "  [19, 0.8, 0.8],\n",
              "  [20, 0.83, 0.83],\n",
              "  [21, 0.84, 0.84],\n",
              "  [22, 0.72, 0.72]],\n",
              " [2, 4],\n",
              " [[0, 0.51, 0.47],\n",
              "  [1, 0.51, 0.34],\n",
              "  [2, 0.87, 0.87],\n",
              "  [3, 0.51, 0.34],\n",
              "  [4, 0.51, 0.34],\n",
              "  [5, 0.89, 0.89],\n",
              "  [6, 0.7, 0.69],\n",
              "  [7, 0.54, 0.5],\n",
              "  [8, 0.82, 0.82],\n",
              "  [9, 0.61, 0.61],\n",
              "  [10, 0.64, 0.64],\n",
              "  [11, 0.68, 0.68],\n",
              "  [12, 0.93, 0.93],\n",
              "  [13, 0.96, 0.96],\n",
              "  [14, 0.69, 0.69],\n",
              "  [15, 0.75, 0.75],\n",
              "  [16, 0.98, 0.98],\n",
              "  [17, 0.99, 0.99],\n",
              "  [18, 0.55, 0.55],\n",
              "  [19, 0.48, 0.38],\n",
              "  [20, 0.98, 0.98],\n",
              "  [21, 0.97, 0.97],\n",
              "  [22, 0.88, 0.88]],\n",
              " [2, 5],\n",
              " [[0, 0.76, 0.75],\n",
              "  [1, 0.68, 0.66],\n",
              "  [2, 0.66, 0.66],\n",
              "  [3, 0.53, 0.37],\n",
              "  [4, 0.69, 0.67],\n",
              "  [5, 0.68, 0.67],\n",
              "  [6, 0.69, 0.68],\n",
              "  [7, 0.65, 0.64],\n",
              "  [8, 0.85, 0.85],\n",
              "  [9, 0.52, 0.49],\n",
              "  [10, 0.6, 0.59],\n",
              "  [11, 0.65, 0.65],\n",
              "  [12, 0.88, 0.88],\n",
              "  [13, 0.92, 0.92],\n",
              "  [14, 0.71, 0.71],\n",
              "  [15, 0.74, 0.74],\n",
              "  [16, 0.98, 0.98],\n",
              "  [17, 0.98, 0.98],\n",
              "  [18, 0.53, 0.37],\n",
              "  [19, 0.53, 0.37],\n",
              "  [20, 0.99, 0.99],\n",
              "  [21, 0.99, 0.99],\n",
              "  [22, 0.67, 0.67]],\n",
              " [2, 6],\n",
              " [[0, 0.67, 0.67],\n",
              "  [1, 1.0, 1.0],\n",
              "  [2, 0.9, 0.9],\n",
              "  [3, 0.77, 0.76],\n",
              "  [4, 1.0, 1.0],\n",
              "  [5, 0.9, 0.9],\n",
              "  [6, 0.95, 0.95],\n",
              "  [7, 0.86, 0.86],\n",
              "  [8, 0.56, 0.54],\n",
              "  [9, 0.75, 0.75],\n",
              "  [10, 0.78, 0.78],\n",
              "  [11, 0.79, 0.79],\n",
              "  [12, 0.9, 0.9],\n",
              "  [13, 0.96, 0.96],\n",
              "  [14, 0.55, 0.55],\n",
              "  [15, 0.78, 0.78],\n",
              "  [16, 0.97, 0.97],\n",
              "  [17, 0.98, 0.98],\n",
              "  [18, 0.53, 0.37],\n",
              "  [19, 0.53, 0.37],\n",
              "  [20, 0.99, 0.99],\n",
              "  [21, 0.98, 0.98],\n",
              "  [22, 0.91, 0.91]],\n",
              " [3, 4],\n",
              " [[0, 0.68, 0.67],\n",
              "  [1, 0.36, 0.31],\n",
              "  [2, 0.79, 0.79],\n",
              "  [3, 0.54, 0.38],\n",
              "  [4, 0.47, 0.34],\n",
              "  [5, 0.81, 0.81],\n",
              "  [6, 0.68, 0.68],\n",
              "  [7, 0.54, 0.38],\n",
              "  [8, 0.81, 0.81],\n",
              "  [9, 0.53, 0.41],\n",
              "  [10, 0.62, 0.6],\n",
              "  [11, 0.57, 0.5],\n",
              "  [12, 0.96, 0.96],\n",
              "  [13, 0.95, 0.95],\n",
              "  [14, 0.6, 0.6],\n",
              "  [15, 0.77, 0.77],\n",
              "  [16, 0.97, 0.97],\n",
              "  [17, 0.97, 0.97],\n",
              "  [18, 0.54, 0.38],\n",
              "  [19, 0.78, 0.77],\n",
              "  [20, 0.98, 0.98],\n",
              "  [21, 0.96, 0.96],\n",
              "  [22, 0.8, 0.8]],\n",
              " [3, 5],\n",
              " [[0, 0.87, 0.87],\n",
              "  [1, 0.56, 0.43],\n",
              "  [2, 0.56, 0.48],\n",
              "  [3, 0.56, 0.4],\n",
              "  [4, 0.56, 0.48],\n",
              "  [5, 0.56, 0.4],\n",
              "  [6, 0.57, 0.42],\n",
              "  [7, 0.56, 0.4],\n",
              "  [8, 0.85, 0.85],\n",
              "  [9, 0.6, 0.57],\n",
              "  [10, 0.66, 0.64],\n",
              "  [11, 0.6, 0.54],\n",
              "  [12, 0.93, 0.93],\n",
              "  [13, 0.93, 0.93],\n",
              "  [14, 0.63, 0.63],\n",
              "  [15, 0.74, 0.74],\n",
              "  [16, 0.98, 0.98],\n",
              "  [17, 0.97, 0.97],\n",
              "  [18, 0.56, 0.4],\n",
              "  [19, 0.7, 0.67],\n",
              "  [20, 0.99, 0.99],\n",
              "  [21, 0.98, 0.98],\n",
              "  [22, 0.55, 0.4]],\n",
              " [3, 6],\n",
              " [[0, 0.8, 0.8],\n",
              "  [1, 1.0, 1.0],\n",
              "  [2, 0.94, 0.94],\n",
              "  [3, 0.92, 0.92],\n",
              "  [4, 1.0, 1.0],\n",
              "  [5, 0.94, 0.94],\n",
              "  [6, 0.94, 0.94],\n",
              "  [7, 0.95, 0.95],\n",
              "  [8, 0.52, 0.46],\n",
              "  [9, 0.54, 0.39],\n",
              "  [10, 0.56, 0.4],\n",
              "  [11, 0.55, 0.4],\n",
              "  [12, 0.95, 0.95],\n",
              "  [13, 0.95, 0.95],\n",
              "  [14, 0.56, 0.4],\n",
              "  [15, 0.8, 0.79],\n",
              "  [16, 0.97, 0.97],\n",
              "  [17, 0.97, 0.97],\n",
              "  [18, 0.56, 0.4],\n",
              "  [19, 0.6, 0.57],\n",
              "  [20, 0.99, 0.99],\n",
              "  [21, 0.96, 0.96],\n",
              "  [22, 0.94, 0.94]],\n",
              " [4, 5],\n",
              " [[0, 0.7, 0.7],\n",
              "  [1, 0.63, 0.6],\n",
              "  [2, 0.82, 0.82],\n",
              "  [3, 0.51, 0.51],\n",
              "  [4, 0.62, 0.6],\n",
              "  [5, 0.81, 0.81],\n",
              "  [6, 0.6, 0.6],\n",
              "  [7, 0.55, 0.53],\n",
              "  [8, 0.54, 0.51],\n",
              "  [9, 0.56, 0.55],\n",
              "  [10, 0.53, 0.46],\n",
              "  [11, 0.52, 0.43],\n",
              "  [12, 0.71, 0.71],\n",
              "  [13, 0.7, 0.7],\n",
              "  [14, 0.52, 0.45],\n",
              "  [15, 0.58, 0.54],\n",
              "  [16, 0.52, 0.36],\n",
              "  [17, 0.52, 0.36],\n",
              "  [18, 0.59, 0.55],\n",
              "  [19, 0.55, 0.55],\n",
              "  [20, 0.51, 0.4],\n",
              "  [21, 0.53, 0.39],\n",
              "  [22, 0.83, 0.82]],\n",
              " [4, 6],\n",
              " [[0, 0.59, 0.59],\n",
              "  [1, 1.0, 1.0],\n",
              "  [2, 0.89, 0.89],\n",
              "  [3, 0.84, 0.84],\n",
              "  [4, 1.0, 1.0],\n",
              "  [5, 0.87, 0.87],\n",
              "  [6, 0.83, 0.83],\n",
              "  [7, 0.88, 0.88],\n",
              "  [8, 0.64, 0.64],\n",
              "  [9, 0.64, 0.64],\n",
              "  [10, 0.69, 0.68],\n",
              "  [11, 0.67, 0.67],\n",
              "  [12, 0.59, 0.59],\n",
              "  [13, 0.52, 0.36],\n",
              "  [14, 0.58, 0.57],\n",
              "  [15, 0.54, 0.44],\n",
              "  [16, 0.52, 0.36],\n",
              "  [17, 0.52, 0.36],\n",
              "  [18, 0.52, 0.42],\n",
              "  [19, 0.46, 0.46],\n",
              "  [20, 0.52, 0.36],\n",
              "  [21, 0.52, 0.36],\n",
              "  [22, 0.88, 0.88]],\n",
              " [5, 6],\n",
              " [[0, 0.4, 0.4],\n",
              "  [1, 1.0, 1.0],\n",
              "  [2, 0.94, 0.94],\n",
              "  [3, 0.91, 0.91],\n",
              "  [4, 1.0, 1.0],\n",
              "  [5, 0.94, 0.94],\n",
              "  [6, 0.91, 0.91],\n",
              "  [7, 0.9, 0.9],\n",
              "  [8, 0.68, 0.67],\n",
              "  [9, 0.7, 0.7],\n",
              "  [10, 0.71, 0.71],\n",
              "  [11, 0.7, 0.7],\n",
              "  [12, 0.6, 0.59],\n",
              "  [13, 0.68, 0.66],\n",
              "  [14, 0.6, 0.6],\n",
              "  [15, 0.62, 0.62],\n",
              "  [16, 0.5, 0.34],\n",
              "  [17, 0.5, 0.34],\n",
              "  [18, 0.48, 0.45],\n",
              "  [19, 0.49, 0.47],\n",
              "  [20, 0.43, 0.39],\n",
              "  [21, 0.46, 0.37],\n",
              "  [22, 0.94, 0.94]]]"
            ]
          },
          "metadata": {},
          "execution_count": 17
        }
      ]
    }
  ],
  "metadata": {
    "kernelspec": {
      "display_name": "Python 3",
      "language": "python",
      "name": "python3"
    },
    "language_info": {
      "codemirror_mode": {
        "name": "ipython",
        "version": 3
      },
      "file_extension": ".py",
      "mimetype": "text/x-python",
      "name": "python",
      "nbconvert_exporter": "python",
      "pygments_lexer": "ipython3",
      "version": "3.8.5"
    },
    "colab": {
      "name": "Linear and log_regression.ipynb",
      "provenance": [],
      "collapsed_sections": [
        "LWo8dJrP8cV8"
      ]
    }
  },
  "nbformat": 4,
  "nbformat_minor": 0
}